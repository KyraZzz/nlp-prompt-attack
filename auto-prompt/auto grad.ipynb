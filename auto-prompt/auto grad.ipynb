{
 "cells": [
  {
   "cell_type": "code",
   "execution_count": 1,
   "id": "12afdcf3",
   "metadata": {},
   "outputs": [],
   "source": [
    "import torch"
   ]
  },
  {
   "cell_type": "code",
   "execution_count": 2,
   "id": "cadfd938",
   "metadata": {},
   "outputs": [],
   "source": [
    "a = torch.tensor(2.0, requires_grad=True)\n",
    "b = torch.tensor(3.0, requires_grad=True)"
   ]
  },
  {
   "cell_type": "code",
   "execution_count": 3,
   "id": "eb4f9f12",
   "metadata": {},
   "outputs": [],
   "source": [
    "c = a * b"
   ]
  },
  {
   "cell_type": "code",
   "execution_count": 4,
   "id": "f8e3f27b",
   "metadata": {},
   "outputs": [
    {
     "data": {
      "text/plain": [
       "tensor(6., grad_fn=<MulBackward0>)"
      ]
     },
     "execution_count": 4,
     "metadata": {},
     "output_type": "execute_result"
    }
   ],
   "source": [
    "c"
   ]
  },
  {
   "cell_type": "code",
   "execution_count": 10,
   "id": "c4b26e34",
   "metadata": {},
   "outputs": [
    {
     "name": "stdout",
     "output_type": "stream",
     "text": [
      "tensor(2., requires_grad=True)\n",
      "tensor(3., requires_grad=True)\n"
     ]
    },
    {
     "data": {
      "text/plain": [
       "(None, None)"
      ]
     },
     "execution_count": 10,
     "metadata": {},
     "output_type": "execute_result"
    }
   ],
   "source": [
    "print(a), print(b)"
   ]
  },
  {
   "cell_type": "code",
   "execution_count": 11,
   "id": "63f6afea",
   "metadata": {},
   "outputs": [],
   "source": [
    "def c_hook(grad):\n",
    "    print(grad)\n",
    "    return grad + 2"
   ]
  },
  {
   "cell_type": "code",
   "execution_count": 12,
   "id": "717b30ce",
   "metadata": {},
   "outputs": [
    {
     "data": {
      "text/plain": [
       "<torch.utils.hooks.RemovableHandle at 0x7f29e0e7c8b0>"
      ]
     },
     "execution_count": 12,
     "metadata": {},
     "output_type": "execute_result"
    }
   ],
   "source": [
    "c.register_hook(c_hook)"
   ]
  },
  {
   "cell_type": "code",
   "execution_count": 13,
   "id": "9e698a77",
   "metadata": {},
   "outputs": [
    {
     "data": {
      "text/plain": [
       "<torch.utils.hooks.RemovableHandle at 0x7f29e0e7cfa0>"
      ]
     },
     "execution_count": 13,
     "metadata": {},
     "output_type": "execute_result"
    }
   ],
   "source": [
    "c.register_hook(lambda grad : print(grad))"
   ]
  },
  {
   "cell_type": "code",
   "execution_count": 17,
   "id": "4043473d",
   "metadata": {},
   "outputs": [],
   "source": [
    "c.retain_grad() # save the gradients on the forward and backward graph on intermediate nodes"
   ]
  },
  {
   "cell_type": "code",
   "execution_count": 5,
   "id": "8efbb6fa",
   "metadata": {},
   "outputs": [],
   "source": [
    "c.backward()"
   ]
  },
  {
   "cell_type": "code",
   "execution_count": 6,
   "id": "cc1acfd1",
   "metadata": {},
   "outputs": [],
   "source": [
    "d = torch.tensor(4.0, requires_grad=True)"
   ]
  },
  {
   "cell_type": "code",
   "execution_count": 18,
   "id": "e0286ab5",
   "metadata": {},
   "outputs": [
    {
     "data": {
      "text/plain": [
       "<torch.utils.hooks.RemovableHandle at 0x7f29e0e7ca60>"
      ]
     },
     "execution_count": 18,
     "metadata": {},
     "output_type": "execute_result"
    }
   ],
   "source": [
    "d.register_hook(lambda grad: grad + 100)"
   ]
  },
  {
   "cell_type": "code",
   "execution_count": 7,
   "id": "7aeed03a",
   "metadata": {},
   "outputs": [],
   "source": [
    "e = c * d"
   ]
  },
  {
   "cell_type": "code",
   "execution_count": 8,
   "id": "13911734",
   "metadata": {},
   "outputs": [
    {
     "data": {
      "text/plain": [
       "tensor(24., grad_fn=<MulBackward0>)"
      ]
     },
     "execution_count": 8,
     "metadata": {},
     "output_type": "execute_result"
    }
   ],
   "source": [
    "e"
   ]
  },
  {
   "cell_type": "code",
   "execution_count": 19,
   "id": "5db7e4ed",
   "metadata": {},
   "outputs": [],
   "source": [
    "e.retain_grad()"
   ]
  },
  {
   "cell_type": "code",
   "execution_count": 20,
   "id": "4b8ba4cf",
   "metadata": {},
   "outputs": [
    {
     "data": {
      "text/plain": [
       "<torch.utils.hooks.RemovableHandle at 0x7f29e0e7d180>"
      ]
     },
     "execution_count": 20,
     "metadata": {},
     "output_type": "execute_result"
    }
   ],
   "source": [
    "e.register_hook(lambda grad: grad * 2)"
   ]
  },
  {
   "cell_type": "code",
   "execution_count": 22,
   "id": "7e06b09e",
   "metadata": {},
   "outputs": [],
   "source": [
    "import torch.nn as nn"
   ]
  },
  {
   "cell_type": "code",
   "execution_count": 24,
   "id": "1eaffe46",
   "metadata": {},
   "outputs": [],
   "source": [
    "class MyMultiply(nn.Module):\n",
    "    def __init__(self):\n",
    "        super(MyMultiply, self).__init__()\n",
    "    @staticmethod\n",
    "    def forward(a, b):\n",
    "        return a * b"
   ]
  },
  {
   "cell_type": "code",
   "execution_count": 27,
   "id": "00ccd47b",
   "metadata": {},
   "outputs": [],
   "source": [
    "def backward_hook(module, grad_input, grad_output):\n",
    "    print('module:', module)\n",
    "    print('grad_input', grad_input)\n",
    "    print('grad_output', grad_output)"
   ]
  },
  {
   "cell_type": "code",
   "execution_count": 33,
   "id": "98adf4e3",
   "metadata": {},
   "outputs": [],
   "source": [
    "my_multiply = MyMultiply()"
   ]
  },
  {
   "cell_type": "code",
   "execution_count": 34,
   "id": "0a1c3266",
   "metadata": {},
   "outputs": [
    {
     "data": {
      "text/plain": [
       "<torch.utils.hooks.RemovableHandle at 0x7f29bf89a3b0>"
      ]
     },
     "execution_count": 34,
     "metadata": {},
     "output_type": "execute_result"
    }
   ],
   "source": [
    "my_multiply.register_full_backward_hook(backward_hook)"
   ]
  },
  {
   "cell_type": "code",
   "execution_count": 35,
   "id": "981526e4",
   "metadata": {},
   "outputs": [
    {
     "name": "stdout",
     "output_type": "stream",
     "text": [
      "module: MyMultiply()\n",
      "grad_input (tensor(3.), tensor(2.))\n",
      "grad_output (tensor(1.),)\n"
     ]
    }
   ],
   "source": [
    "c = my_multiply(a, b)\n",
    "c.backward()"
   ]
  },
  {
   "cell_type": "code",
   "execution_count": 36,
   "id": "c7ccd536",
   "metadata": {},
   "outputs": [],
   "source": [
    "from transformers import AutoTokenizer, AutoModelForMaskedLM"
   ]
  },
  {
   "cell_type": "code",
   "execution_count": 145,
   "id": "d4da10c6",
   "metadata": {},
   "outputs": [],
   "source": [
    "tokenizer = AutoTokenizer.from_pretrained('roberta-base')\n",
    "model = AutoModelForMaskedLM.from_pretrained('roberta-base')"
   ]
  },
  {
   "cell_type": "code",
   "execution_count": 146,
   "id": "5c0e69ff",
   "metadata": {},
   "outputs": [],
   "source": [
    "sentence = \"A pleasure to watch. <mask> <mask> great.\""
   ]
  },
  {
   "cell_type": "code",
   "execution_count": 147,
   "id": "f89583a3",
   "metadata": {},
   "outputs": [
    {
     "data": {
      "text/plain": [
       "tensor([[    0,   250, 10483,     7,  1183,     4, 50264, 50264,   372,     4,\n",
       "             2]])"
      ]
     },
     "execution_count": 147,
     "metadata": {},
     "output_type": "execute_result"
    }
   ],
   "source": [
    "token_ids = tokenizer.encode(sentence, return_tensors=\"pt\")\n",
    "token_ids"
   ]
  },
  {
   "cell_type": "code",
   "execution_count": 148,
   "id": "38ffd087",
   "metadata": {},
   "outputs": [],
   "source": [
    "masked_position = (token_ids.squeeze() == tokenizer.mask_token_id).nonzero().flatten()"
   ]
  },
  {
   "cell_type": "code",
   "execution_count": 149,
   "id": "ba6fb148",
   "metadata": {},
   "outputs": [
    {
     "data": {
      "text/plain": [
       "tensor([6, 7])"
      ]
     },
     "execution_count": 149,
     "metadata": {},
     "output_type": "execute_result"
    }
   ],
   "source": [
    "masked_position"
   ]
  },
  {
   "cell_type": "code",
   "execution_count": 150,
   "id": "d57b7803",
   "metadata": {},
   "outputs": [
    {
     "data": {
      "text/plain": [
       "MaskedLMOutput(loss=None, logits=tensor([[[32.8936, -3.9042, 18.1085,  ...,  2.8312,  5.9604, 10.9170],\n",
       "         [ 4.8774, -3.1897, 13.4099,  ..., -0.6604,  2.7859,  5.7515],\n",
       "         [ 0.8211, -3.8939,  6.6889,  ..., -0.3324,  0.0727, -5.1507],\n",
       "         ...,\n",
       "         [-3.0926, -5.2922,  8.6832,  ..., -2.1439, -1.6686, -0.8414],\n",
       "         [17.6368, -4.6497, 18.7583,  ..., -0.1790,  2.7923,  6.2334],\n",
       "         [12.5953, -4.0732, 30.0292,  ..., -1.2050, -0.8978,  5.9343]]],\n",
       "       grad_fn=<ViewBackward0>), hidden_states=None, attentions=None)"
      ]
     },
     "execution_count": 150,
     "metadata": {},
     "output_type": "execute_result"
    }
   ],
   "source": [
    "model(token_ids)"
   ]
  },
  {
   "cell_type": "code",
   "execution_count": 151,
   "id": "a61d199d",
   "metadata": {},
   "outputs": [],
   "source": [
    "with torch.no_grad():\n",
    "    output = model(token_ids)"
   ]
  },
  {
   "cell_type": "code",
   "execution_count": 152,
   "id": "454cf87e",
   "metadata": {},
   "outputs": [
    {
     "data": {
      "text/plain": [
       "MaskedLMOutput(loss=None, logits=tensor([[[32.8936, -3.9042, 18.1085,  ...,  2.8312,  5.9604, 10.9170],\n",
       "         [ 4.8774, -3.1897, 13.4099,  ..., -0.6604,  2.7859,  5.7515],\n",
       "         [ 0.8211, -3.8939,  6.6889,  ..., -0.3324,  0.0727, -5.1507],\n",
       "         ...,\n",
       "         [-3.0926, -5.2922,  8.6832,  ..., -2.1439, -1.6686, -0.8414],\n",
       "         [17.6368, -4.6497, 18.7583,  ..., -0.1790,  2.7923,  6.2334],\n",
       "         [12.5953, -4.0732, 30.0292,  ..., -1.2050, -0.8978,  5.9343]]]), hidden_states=None, attentions=None)"
      ]
     },
     "execution_count": 152,
     "metadata": {},
     "output_type": "execute_result"
    }
   ],
   "source": [
    "output"
   ]
  },
  {
   "cell_type": "code",
   "execution_count": 153,
   "id": "87282593",
   "metadata": {},
   "outputs": [],
   "source": [
    "last_hidden_state = output[0].squeeze()"
   ]
  },
  {
   "cell_type": "code",
   "execution_count": 154,
   "id": "32da2d33",
   "metadata": {},
   "outputs": [
    {
     "data": {
      "text/plain": [
       "tensor([[32.8936, -3.9042, 18.1085,  ...,  2.8312,  5.9604, 10.9170],\n",
       "        [ 4.8774, -3.1897, 13.4099,  ..., -0.6604,  2.7859,  5.7515],\n",
       "        [ 0.8211, -3.8939,  6.6889,  ..., -0.3324,  0.0727, -5.1507],\n",
       "        ...,\n",
       "        [-3.0926, -5.2922,  8.6832,  ..., -2.1439, -1.6686, -0.8414],\n",
       "        [17.6368, -4.6497, 18.7583,  ..., -0.1790,  2.7923,  6.2334],\n",
       "        [12.5953, -4.0732, 30.0292,  ..., -1.2050, -0.8978,  5.9343]])"
      ]
     },
     "execution_count": 154,
     "metadata": {},
     "output_type": "execute_result"
    }
   ],
   "source": [
    "last_hidden_state"
   ]
  },
  {
   "cell_type": "code",
   "execution_count": 155,
   "id": "acae3545",
   "metadata": {},
   "outputs": [
    {
     "name": "stdout",
     "output_type": "stream",
     "text": [
      "index: 0, mask_index: 6\n",
      "idx: tensor([ 85,  91, 280, 152, 252])\n",
      "Mask: 1, Guesses: ['It', 'He', 'That', 'This', 'They']\n",
      "index: 1, mask_index: 7\n",
      "idx: tensor([  18,   16,   21, 1326,   32])\n",
      "Mask: 2, Guesses: [\"'s\", 'is', 'was', 'looks', 'are']\n"
     ]
    }
   ],
   "source": [
    "list_of_list = []\n",
    "for index, mask_index in enumerate(masked_position):\n",
    "    print(f\"index: {index}, mask_index: {mask_index}\")\n",
    "    mask_hidden_state = last_hidden_state[mask_index]\n",
    "    idx = torch.topk(mask_hidden_state, k = 5, dim=0)[1]\n",
    "    print(f\"idx: {idx}\")\n",
    "    words = [tokenizer.decode(x.item()).strip() for x in idx]\n",
    "    list_of_list.append(words)\n",
    "    print(f\"Mask: {index+1}, Guesses: {words}\")"
   ]
  },
  {
   "cell_type": "code",
   "execution_count": 156,
   "id": "912ecc9a",
   "metadata": {},
   "outputs": [],
   "source": [
    "best_guess = \"\"\n",
    "for j in list_of_list:\n",
    "    best_guess = best_guess+\" \"+j[0]"
   ]
  },
  {
   "cell_type": "code",
   "execution_count": 157,
   "id": "c5b62b8d",
   "metadata": {},
   "outputs": [
    {
     "data": {
      "text/plain": [
       "\" It 's\""
      ]
     },
     "execution_count": 157,
     "metadata": {},
     "output_type": "execute_result"
    }
   ],
   "source": [
    "best_guess"
   ]
  },
  {
   "cell_type": "code",
   "execution_count": 114,
   "id": "03dc7215",
   "metadata": {},
   "outputs": [],
   "source": [
    "from datasets import load_dataset"
   ]
  },
  {
   "cell_type": "code",
   "execution_count": 116,
   "id": "8be6c44d",
   "metadata": {},
   "outputs": [
    {
     "name": "stderr",
     "output_type": "stream",
     "text": [
      "Found cached dataset glue (/home/yz709/.cache/huggingface/datasets/glue/sst2/1.0.0/dacbe3125aa31d7f70367a07a8a9e72a5a0bfeb5fc42e75c9db75b96da6053ad)\n"
     ]
    },
    {
     "data": {
      "application/vnd.jupyter.widget-view+json": {
       "model_id": "8dbe16a8def44d3aaeca2cf703cb6a51",
       "version_major": 2,
       "version_minor": 0
      },
      "text/plain": [
       "  0%|          | 0/3 [00:00<?, ?it/s]"
      ]
     },
     "metadata": {},
     "output_type": "display_data"
    }
   ],
   "source": [
    "sst2 = load_dataset(\"glue\",\"sst2\")"
   ]
  },
  {
   "cell_type": "code",
   "execution_count": 118,
   "id": "08b16f63",
   "metadata": {},
   "outputs": [],
   "source": [
    "k_16_val = sst2['validation'][:16]"
   ]
  },
  {
   "cell_type": "code",
   "execution_count": 119,
   "id": "f7904170",
   "metadata": {},
   "outputs": [
    {
     "data": {
      "text/plain": [
       "{'sentence': [\"it 's a charming and often affecting journey . \",\n",
       "  'unflinchingly bleak and desperate ',\n",
       "  'allows us to hope that nolan is poised to embark a major career as a commercial yet inventive filmmaker . ',\n",
       "  \"the acting , costumes , music , cinematography and sound are all astounding given the production 's austere locales . \",\n",
       "  \"it 's slow -- very , very slow . \",\n",
       "  'although laced with humor and a few fanciful touches , the film is a refreshingly serious look at young women . ',\n",
       "  'a sometimes tedious film . ',\n",
       "  \"or doing last year 's taxes with your ex-wife . \",\n",
       "  \"you do n't have to know about music to appreciate the film 's easygoing blend of comedy and romance . \",\n",
       "  \"in exactly 89 minutes , most of which passed as slowly as if i 'd been sitting naked on an igloo , formula 51 sank from quirky to jerky to utter turkey . \",\n",
       "  'the mesmerizing performances of the leads keep the film grounded and keep the audience riveted . ',\n",
       "  'it takes a strange kind of laziness to waste the talents of robert forster , anne meara , eugene levy , and reginald veljohnson all in the same movie . ',\n",
       "  '... the film suffers from a lack of humor ( something needed to balance out the violence ) ... ',\n",
       "  \"we root for ( clara and paul ) , even like them , though perhaps it 's an emotion closer to pity . \",\n",
       "  \"even horror fans will most likely not find what they 're seeking with trouble every day ; the movie lacks both thrills and humor . \",\n",
       "  'a gorgeous , high-spirited musical from india that exquisitely blends music , dance , song , and high drama . '],\n",
       " 'label': [1, 0, 1, 1, 0, 1, 0, 0, 1, 0, 1, 0, 0, 1, 0, 1],\n",
       " 'idx': [0, 1, 2, 3, 4, 5, 6, 7, 8, 9, 10, 11, 12, 13, 14, 15]}"
      ]
     },
     "execution_count": 119,
     "metadata": {},
     "output_type": "execute_result"
    }
   ],
   "source": [
    "k_16_val"
   ]
  },
  {
   "cell_type": "code",
   "execution_count": null,
   "id": "781abf8d",
   "metadata": {},
   "outputs": [],
   "source": []
  }
 ],
 "metadata": {
  "kernelspec": {
   "display_name": "Python 3 (ipykernel)",
   "language": "python",
   "name": "python3"
  },
  "language_info": {
   "codemirror_mode": {
    "name": "ipython",
    "version": 3
   },
   "file_extension": ".py",
   "mimetype": "text/x-python",
   "name": "python",
   "nbconvert_exporter": "python",
   "pygments_lexer": "ipython3",
   "version": "3.10.6"
  }
 },
 "nbformat": 4,
 "nbformat_minor": 5
}
