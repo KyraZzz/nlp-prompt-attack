{
 "cells": [
  {
   "cell_type": "code",
   "execution_count": 1,
   "id": "12afdcf3",
   "metadata": {},
   "outputs": [],
   "source": [
    "import torch"
   ]
  },
  {
   "cell_type": "code",
   "execution_count": 3,
   "id": "cadfd938",
   "metadata": {},
   "outputs": [],
   "source": [
    "a = torch.tensor(2.0, requires_grad=True)\n",
    "b = torch.tensor(3.0, requires_grad=True)"
   ]
  },
  {
   "cell_type": "code",
   "execution_count": 4,
   "id": "eb4f9f12",
   "metadata": {},
   "outputs": [],
   "source": [
    "c = a * b"
   ]
  },
  {
   "cell_type": "code",
   "execution_count": 5,
   "id": "f8e3f27b",
   "metadata": {},
   "outputs": [
    {
     "data": {
      "text/plain": [
       "tensor(6., grad_fn=<MulBackward0>)"
      ]
     },
     "execution_count": 5,
     "metadata": {},
     "output_type": "execute_result"
    }
   ],
   "source": [
    "c"
   ]
  },
  {
   "cell_type": "code",
   "execution_count": 6,
   "id": "c4b26e34",
   "metadata": {},
   "outputs": [
    {
     "name": "stdout",
     "output_type": "stream",
     "text": [
      "tensor(2., requires_grad=True)\n",
      "tensor(3., requires_grad=True)\n"
     ]
    },
    {
     "data": {
      "text/plain": [
       "(None, None)"
      ]
     },
     "execution_count": 6,
     "metadata": {},
     "output_type": "execute_result"
    }
   ],
   "source": [
    "print(a), print(b)"
   ]
  },
  {
   "cell_type": "code",
   "execution_count": 7,
   "id": "63f6afea",
   "metadata": {},
   "outputs": [],
   "source": [
    "def c_hook(grad):\n",
    "    print(grad)\n",
    "    return grad + 2"
   ]
  },
  {
   "cell_type": "code",
   "execution_count": 8,
   "id": "717b30ce",
   "metadata": {},
   "outputs": [
    {
     "data": {
      "text/plain": [
       "<torch.utils.hooks.RemovableHandle at 0x7fa71fa8de10>"
      ]
     },
     "execution_count": 8,
     "metadata": {},
     "output_type": "execute_result"
    }
   ],
   "source": [
    "c.register_hook(c_hook)"
   ]
  },
  {
   "cell_type": "code",
   "execution_count": 9,
   "id": "9e698a77",
   "metadata": {},
   "outputs": [
    {
     "data": {
      "text/plain": [
       "<torch.utils.hooks.RemovableHandle at 0x7fa71fa8e770>"
      ]
     },
     "execution_count": 9,
     "metadata": {},
     "output_type": "execute_result"
    }
   ],
   "source": [
    "c.register_hook(lambda grad : print(grad))"
   ]
  },
  {
   "cell_type": "code",
   "execution_count": 10,
   "id": "4043473d",
   "metadata": {},
   "outputs": [],
   "source": [
    "c.retain_grad() # save the gradients on the forward and backward graph on intermediate nodes"
   ]
  },
  {
   "cell_type": "code",
   "execution_count": null,
   "id": "8efbb6fa",
   "metadata": {},
   "outputs": [],
   "source": [
    "c.backward()"
   ]
  },
  {
   "cell_type": "code",
   "execution_count": null,
   "id": "cc1acfd1",
   "metadata": {},
   "outputs": [],
   "source": [
    "d = torch.tensor(4.0, requires_grad=True)"
   ]
  },
  {
   "cell_type": "code",
   "execution_count": null,
   "id": "e0286ab5",
   "metadata": {},
   "outputs": [],
   "source": [
    "d.register_hook(lambda grad: grad + 100)"
   ]
  },
  {
   "cell_type": "code",
   "execution_count": null,
   "id": "7aeed03a",
   "metadata": {},
   "outputs": [],
   "source": [
    "e = c * d"
   ]
  },
  {
   "cell_type": "code",
   "execution_count": null,
   "id": "13911734",
   "metadata": {},
   "outputs": [],
   "source": [
    "e"
   ]
  },
  {
   "cell_type": "code",
   "execution_count": null,
   "id": "5db7e4ed",
   "metadata": {},
   "outputs": [],
   "source": [
    "e.retain_grad()"
   ]
  },
  {
   "cell_type": "code",
   "execution_count": null,
   "id": "4b8ba4cf",
   "metadata": {},
   "outputs": [],
   "source": [
    "e.register_hook(lambda grad: grad * 2)"
   ]
  },
  {
   "cell_type": "code",
   "execution_count": null,
   "id": "7e06b09e",
   "metadata": {},
   "outputs": [],
   "source": [
    "import torch.nn as nn"
   ]
  },
  {
   "cell_type": "code",
   "execution_count": null,
   "id": "1eaffe46",
   "metadata": {},
   "outputs": [],
   "source": [
    "class MyMultiply(nn.Module):\n",
    "    def __init__(self):\n",
    "        super(MyMultiply, self).__init__()\n",
    "    @staticmethod\n",
    "    def forward(a, b):\n",
    "        return a * b"
   ]
  },
  {
   "cell_type": "code",
   "execution_count": null,
   "id": "00ccd47b",
   "metadata": {},
   "outputs": [],
   "source": [
    "def backward_hook(module, grad_input, grad_output):\n",
    "    print('module:', module)\n",
    "    print('grad_input', grad_input)\n",
    "    print('grad_output', grad_output)"
   ]
  },
  {
   "cell_type": "code",
   "execution_count": null,
   "id": "98adf4e3",
   "metadata": {},
   "outputs": [],
   "source": [
    "my_multiply = MyMultiply()"
   ]
  },
  {
   "cell_type": "code",
   "execution_count": null,
   "id": "0a1c3266",
   "metadata": {},
   "outputs": [],
   "source": [
    "my_multiply.register_full_backward_hook(backward_hook)"
   ]
  },
  {
   "cell_type": "code",
   "execution_count": null,
   "id": "981526e4",
   "metadata": {},
   "outputs": [],
   "source": [
    "c = my_multiply(a, b)\n",
    "c.backward()"
   ]
  },
  {
   "cell_type": "code",
   "execution_count": null,
   "id": "c7ccd536",
   "metadata": {},
   "outputs": [],
   "source": [
    "from transformers import AutoTokenizer, AutoModelForMaskedLM"
   ]
  },
  {
   "cell_type": "code",
   "execution_count": null,
   "id": "d4da10c6",
   "metadata": {},
   "outputs": [],
   "source": [
    "tokenizer = AutoTokenizer.from_pretrained('roberta-base')\n",
    "model = AutoModelForMaskedLM.from_pretrained('roberta-base')"
   ]
  },
  {
   "cell_type": "code",
   "execution_count": null,
   "id": "5c0e69ff",
   "metadata": {},
   "outputs": [],
   "source": [
    "sentence = \"A pleasure to watch. <mask> <mask> great.\""
   ]
  },
  {
   "cell_type": "code",
   "execution_count": null,
   "id": "f89583a3",
   "metadata": {},
   "outputs": [],
   "source": [
    "token_ids = tokenizer.encode(sentence, return_tensors=\"pt\")\n",
    "token_ids"
   ]
  },
  {
   "cell_type": "code",
   "execution_count": null,
   "id": "38ffd087",
   "metadata": {},
   "outputs": [],
   "source": [
    "masked_position = (token_ids.squeeze() == tokenizer.mask_token_id).nonzero().flatten()"
   ]
  },
  {
   "cell_type": "code",
   "execution_count": null,
   "id": "ba6fb148",
   "metadata": {},
   "outputs": [],
   "source": [
    "masked_position"
   ]
  },
  {
   "cell_type": "code",
   "execution_count": null,
   "id": "d57b7803",
   "metadata": {},
   "outputs": [],
   "source": [
    "model(token_ids)"
   ]
  },
  {
   "cell_type": "code",
   "execution_count": null,
   "id": "a61d199d",
   "metadata": {},
   "outputs": [],
   "source": [
    "with torch.no_grad():\n",
    "    output = model(token_ids)"
   ]
  },
  {
   "cell_type": "code",
   "execution_count": null,
   "id": "454cf87e",
   "metadata": {},
   "outputs": [],
   "source": [
    "output"
   ]
  },
  {
   "cell_type": "code",
   "execution_count": null,
   "id": "87282593",
   "metadata": {},
   "outputs": [],
   "source": [
    "last_hidden_state = output[0].squeeze()"
   ]
  },
  {
   "cell_type": "code",
   "execution_count": null,
   "id": "32da2d33",
   "metadata": {},
   "outputs": [],
   "source": [
    "last_hidden_state"
   ]
  },
  {
   "cell_type": "code",
   "execution_count": null,
   "id": "acae3545",
   "metadata": {},
   "outputs": [],
   "source": [
    "list_of_list = []\n",
    "for index, mask_index in enumerate(masked_position):\n",
    "    print(f\"index: {index}, mask_index: {mask_index}\")\n",
    "    mask_hidden_state = last_hidden_state[mask_index]\n",
    "    idx = torch.topk(mask_hidden_state, k = 5, dim=0)[1]\n",
    "    print(f\"idx: {idx}\")\n",
    "    words = [tokenizer.decode(x.item()).strip() for x in idx]\n",
    "    list_of_list.append(words)\n",
    "    print(f\"Mask: {index+1}, Guesses: {words}\")"
   ]
  },
  {
   "cell_type": "code",
   "execution_count": null,
   "id": "912ecc9a",
   "metadata": {},
   "outputs": [],
   "source": [
    "best_guess = \"\"\n",
    "for j in list_of_list:\n",
    "    best_guess = best_guess+\" \"+j[0]"
   ]
  },
  {
   "cell_type": "code",
   "execution_count": null,
   "id": "c5b62b8d",
   "metadata": {},
   "outputs": [],
   "source": [
    "best_guess"
   ]
  },
  {
   "cell_type": "code",
   "execution_count": null,
   "id": "03dc7215",
   "metadata": {},
   "outputs": [],
   "source": [
    "from datasets import load_dataset"
   ]
  },
  {
   "cell_type": "code",
   "execution_count": null,
   "id": "8be6c44d",
   "metadata": {},
   "outputs": [],
   "source": [
    "sst2 = load_dataset(\"glue\",\"sst2\")"
   ]
  },
  {
   "cell_type": "code",
   "execution_count": null,
   "id": "08b16f63",
   "metadata": {},
   "outputs": [],
   "source": [
    "k_16_val = sst2['validation'][:16]"
   ]
  },
  {
   "cell_type": "code",
   "execution_count": null,
   "id": "f7904170",
   "metadata": {},
   "outputs": [],
   "source": [
    "k_16_val"
   ]
  },
  {
   "cell_type": "code",
   "execution_count": 2,
   "id": "781abf8d",
   "metadata": {},
   "outputs": [],
   "source": [
    "input_ids = torch.tensor([[1,2,3],[4,5,6],[7,8,9]])"
   ]
  },
  {
   "cell_type": "code",
   "execution_count": 3,
   "id": "a8fa7112",
   "metadata": {},
   "outputs": [
    {
     "data": {
      "text/plain": [
       "tensor([[1, 2, 3],\n",
       "        [4, 5, 6],\n",
       "        [7, 8, 9]])"
      ]
     },
     "execution_count": 3,
     "metadata": {},
     "output_type": "execute_result"
    }
   ],
   "source": [
    "input_ids"
   ]
  },
  {
   "cell_type": "code",
   "execution_count": 4,
   "id": "9ce9d3c6",
   "metadata": {},
   "outputs": [],
   "source": [
    "trigger_token_pos = torch.tensor([[2],[1],[0]])"
   ]
  },
  {
   "cell_type": "code",
   "execution_count": 5,
   "id": "847ec849",
   "metadata": {},
   "outputs": [
    {
     "data": {
      "text/plain": [
       "tensor([[2],\n",
       "        [1],\n",
       "        [0]])"
      ]
     },
     "execution_count": 5,
     "metadata": {},
     "output_type": "execute_result"
    }
   ],
   "source": [
    "trigger_token_pos"
   ]
  },
  {
   "cell_type": "code",
   "execution_count": 10,
   "id": "6ee33d12",
   "metadata": {},
   "outputs": [
    {
     "data": {
      "text/plain": [
       "tensor([[1, 2, 3],\n",
       "        [4, 5, 6],\n",
       "        [7, 8, 9]])"
      ]
     },
     "execution_count": 10,
     "metadata": {},
     "output_type": "execute_result"
    }
   ],
   "source": [
    "input_ids"
   ]
  },
  {
   "cell_type": "code",
   "execution_count": 16,
   "id": "b1d35a86",
   "metadata": {},
   "outputs": [],
   "source": [
    "input_ids = torch.tensor([1,2,3])"
   ]
  },
  {
   "cell_type": "code",
   "execution_count": 18,
   "id": "6e6536cf",
   "metadata": {},
   "outputs": [],
   "source": [
    "input_ids[1] = 9"
   ]
  },
  {
   "cell_type": "code",
   "execution_count": 33,
   "id": "7c1b5c36",
   "metadata": {},
   "outputs": [
    {
     "data": {
      "text/plain": [
       "tensor([1, 9, 3])"
      ]
     },
     "execution_count": 33,
     "metadata": {},
     "output_type": "execute_result"
    }
   ],
   "source": [
    "input_ids"
   ]
  },
  {
   "cell_type": "code",
   "execution_count": 41,
   "id": "19be3b06",
   "metadata": {},
   "outputs": [],
   "source": [
    "import numpy as np\n",
    "input_ids2 = np.array([4,5,6])\n",
    "input_ids3 = np.array([1,2,3])"
   ]
  },
  {
   "cell_type": "code",
   "execution_count": null,
   "id": "dbb74fc9",
   "metadata": {},
   "outputs": [],
   "source": [
    "encoding_list = []\n",
    "encoding_list.append(input_ids2)\n",
    "encoding_list.append(input_ids3)\n",
    "np.array(encoding_list)"
   ]
  },
  {
   "cell_type": "code",
   "execution_count": 35,
   "id": "64c7c518",
   "metadata": {},
   "outputs": [],
   "source": [
    "input_ids0 = torch.stack((input_ids, input_ids2), dim=0)"
   ]
  },
  {
   "cell_type": "code",
   "execution_count": 39,
   "id": "bcb6cfa8",
   "metadata": {},
   "outputs": [
    {
     "data": {
      "text/plain": [
       "[array([1, 9, 3]), array([4, 5, 6])]"
      ]
     },
     "execution_count": 39,
     "metadata": {},
     "output_type": "execute_result"
    }
   ],
   "source": [
    "encoding_list = "
   ]
  },
  {
   "cell_type": "code",
   "execution_count": 36,
   "id": "e14260c8",
   "metadata": {},
   "outputs": [
    {
     "ename": "RuntimeError",
     "evalue": "stack expects each tensor to be equal size, but got [2, 3] at entry 0 and [3] at entry 1",
     "output_type": "error",
     "traceback": [
      "\u001b[0;31m---------------------------------------------------------------------------\u001b[0m",
      "\u001b[0;31mRuntimeError\u001b[0m                              Traceback (most recent call last)",
      "Input \u001b[0;32mIn [36]\u001b[0m, in \u001b[0;36m<cell line: 1>\u001b[0;34m()\u001b[0m\n\u001b[0;32m----> 1\u001b[0m \u001b[43mtorch\u001b[49m\u001b[38;5;241;43m.\u001b[39;49m\u001b[43mstack\u001b[49m\u001b[43m(\u001b[49m\u001b[43m(\u001b[49m\u001b[43minput_ids0\u001b[49m\u001b[43m,\u001b[49m\u001b[43m \u001b[49m\u001b[43minput_ids2\u001b[49m\u001b[43m)\u001b[49m\u001b[43m,\u001b[49m\u001b[43m \u001b[49m\u001b[43mdim\u001b[49m\u001b[38;5;241;43m=\u001b[39;49m\u001b[38;5;241;43m0\u001b[39;49m\u001b[43m)\u001b[49m\n",
      "\u001b[0;31mRuntimeError\u001b[0m: stack expects each tensor to be equal size, but got [2, 3] at entry 0 and [3] at entry 1"
     ]
    }
   ],
   "source": [
    "torch.stack((input_ids0, input_ids2), dim=0)"
   ]
  },
  {
   "cell_type": "code",
   "execution_count": null,
   "id": "dfeec715",
   "metadata": {},
   "outputs": [],
   "source": []
  }
 ],
 "metadata": {
  "kernelspec": {
   "display_name": "Python 3 (ipykernel)",
   "language": "python",
   "name": "python3"
  },
  "language_info": {
   "codemirror_mode": {
    "name": "ipython",
    "version": 3
   },
   "file_extension": ".py",
   "mimetype": "text/x-python",
   "name": "python",
   "nbconvert_exporter": "python",
   "pygments_lexer": "ipython3",
   "version": "3.10.6"
  }
 },
 "nbformat": 4,
 "nbformat_minor": 5
}
