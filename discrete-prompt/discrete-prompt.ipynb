{
 "cells": [
  {
   "cell_type": "markdown",
   "id": "019dcbd0",
   "metadata": {},
   "source": [
    "# Import necessary libraries"
   ]
  },
  {
   "cell_type": "code",
   "execution_count": 1,
   "id": "d3758580",
   "metadata": {},
   "outputs": [],
   "source": [
    "import torch"
   ]
  },
  {
   "cell_type": "code",
   "execution_count": 2,
   "id": "73980eb0",
   "metadata": {},
   "outputs": [],
   "source": [
    "from datasets import load_dataset"
   ]
  },
  {
   "cell_type": "code",
   "execution_count": 1,
   "id": "411c59f7",
   "metadata": {},
   "outputs": [],
   "source": [
    "from transformers import AutoModel, AutoTokenizer, AdamW, AutoConfig"
   ]
  },
  {
   "cell_type": "markdown",
   "id": "7b0ecc82",
   "metadata": {},
   "source": [
    "# Download datasets"
   ]
  },
  {
   "cell_type": "code",
   "execution_count": 4,
   "id": "8e3dc71f",
   "metadata": {},
   "outputs": [],
   "source": [
    "mnli_path = None"
   ]
  },
  {
   "cell_type": "code",
   "execution_count": 5,
   "id": "165f66cc",
   "metadata": {},
   "outputs": [
    {
     "name": "stderr",
     "output_type": "stream",
     "text": [
      "Using custom data configuration default\n",
      "Found cached dataset multi_nli (/home/yz709/.cache/huggingface/datasets/multi_nli/default/0.0.0/591f72eb6263d1ab527561777936b199b714cda156d35716881158a2bd144f39)\n"
     ]
    },
    {
     "data": {
      "application/vnd.jupyter.widget-view+json": {
       "model_id": "a55e3f24bb2a47629b9be2882880b645",
       "version_major": 2,
       "version_minor": 0
      },
      "text/plain": [
       "  0%|          | 0/3 [00:00<?, ?it/s]"
      ]
     },
     "metadata": {},
     "output_type": "display_data"
    }
   ],
   "source": [
    "if mnli_path == None:\n",
    "    mnli = load_dataset(\"multi_nli\")\n",
    "    mnli_path = \"./datasets/mnli\"\n",
    "    mnli.save_to_disk(mnli_path)"
   ]
  },
  {
   "cell_type": "code",
   "execution_count": 6,
   "id": "3663e374",
   "metadata": {},
   "outputs": [],
   "source": [
    "qnli_path = None"
   ]
  },
  {
   "cell_type": "code",
   "execution_count": 7,
   "id": "f7915d97",
   "metadata": {},
   "outputs": [
    {
     "name": "stderr",
     "output_type": "stream",
     "text": [
      "Using custom data configuration SetFit--qnli-324fd6914ad1beff\n",
      "Found cached dataset json (/home/yz709/.cache/huggingface/datasets/SetFit___json/SetFit--qnli-324fd6914ad1beff/0.0.0/e6070c77f18f01a5ad4551a8b7edfba20b8438b7cad4d94e6ad9378022ce4aab)\n"
     ]
    },
    {
     "data": {
      "application/vnd.jupyter.widget-view+json": {
       "model_id": "7c19232534aa4ee6b17a2923a206ff66",
       "version_major": 2,
       "version_minor": 0
      },
      "text/plain": [
       "  0%|          | 0/3 [00:00<?, ?it/s]"
      ]
     },
     "metadata": {},
     "output_type": "display_data"
    }
   ],
   "source": [
    "if qnli_path == None:\n",
    "    qnli = load_dataset(\"SetFit/qnli\")\n",
    "    qnli_path = \"./datasets/qnli\"\n",
    "    qnli.save_to_disk(qnli_path)"
   ]
  },
  {
   "cell_type": "markdown",
   "id": "dfe49be5",
   "metadata": {},
   "source": [
    "# Inspect datasets"
   ]
  },
  {
   "cell_type": "markdown",
   "id": "10b43448",
   "metadata": {},
   "source": [
    "## For qnli dataset"
   ]
  },
  {
   "cell_type": "code",
   "execution_count": 8,
   "id": "e00543fe",
   "metadata": {},
   "outputs": [
    {
     "data": {
      "text/plain": [
       "DatasetDict({\n",
       "    train: Dataset({\n",
       "        features: ['text1', 'text2', 'label', 'idx', 'label_text'],\n",
       "        num_rows: 104743\n",
       "    })\n",
       "    test: Dataset({\n",
       "        features: ['text1', 'text2', 'label', 'idx', 'label_text'],\n",
       "        num_rows: 5463\n",
       "    })\n",
       "    validation: Dataset({\n",
       "        features: ['text1', 'text2', 'label', 'idx', 'label_text'],\n",
       "        num_rows: 5463\n",
       "    })\n",
       "})"
      ]
     },
     "execution_count": 8,
     "metadata": {},
     "output_type": "execute_result"
    }
   ],
   "source": [
    "qnli"
   ]
  },
  {
   "cell_type": "code",
   "execution_count": 9,
   "id": "b79a1f20",
   "metadata": {},
   "outputs": [],
   "source": [
    "qnli_train = qnli['train']\n",
    "qnli_test = qnli['test']\n",
    "qnli_val = qnli['validation']"
   ]
  },
  {
   "cell_type": "code",
   "execution_count": 10,
   "id": "41480f7e",
   "metadata": {},
   "outputs": [
    {
     "data": {
      "text/plain": [
       "{'text1': ['What individual was responsible for law and maintaining order in the county?',\n",
       "  'How much of the gross domestic product was spent on public health in 2004?'],\n",
       " 'text2': ['He was the top civil and military leader of the commandery and handled defense, lawsuits, seasonal instructions to farmers and recommendations of nominees for office sent annually to the capital in a quota system first established by Emperor Wu.',\n",
       "  'Public expenditure health was at 8.9% of the GDP in 2004, whereas private expenditure was at 1.3%.'],\n",
       " 'label': [1, 0],\n",
       " 'idx': [104741, 104742],\n",
       " 'label_text': ['not entailment', 'entailment']}"
      ]
     },
     "execution_count": 10,
     "metadata": {},
     "output_type": "execute_result"
    }
   ],
   "source": [
    "# label 0 - entailment, label 1 - not entailment\n",
    "qnli_train[-2:]"
   ]
  },
  {
   "cell_type": "code",
   "execution_count": 11,
   "id": "5abbe76c",
   "metadata": {},
   "outputs": [
    {
     "data": {
      "text/plain": [
       "['What individual was responsible for law and maintaining order in the county?',\n",
       " 'How much of the gross domestic product was spent on public health in 2004?']"
      ]
     },
     "execution_count": 11,
     "metadata": {},
     "output_type": "execute_result"
    }
   ],
   "source": [
    "qnli_train['text1'][-2:]"
   ]
  },
  {
   "cell_type": "markdown",
   "id": "bcea50ed",
   "metadata": {},
   "source": [
    "## For mnli dataset"
   ]
  },
  {
   "cell_type": "code",
   "execution_count": 12,
   "id": "72e1d1e0",
   "metadata": {},
   "outputs": [
    {
     "data": {
      "text/plain": [
       "DatasetDict({\n",
       "    train: Dataset({\n",
       "        features: ['promptID', 'pairID', 'premise', 'premise_binary_parse', 'premise_parse', 'hypothesis', 'hypothesis_binary_parse', 'hypothesis_parse', 'genre', 'label'],\n",
       "        num_rows: 392702\n",
       "    })\n",
       "    validation_matched: Dataset({\n",
       "        features: ['promptID', 'pairID', 'premise', 'premise_binary_parse', 'premise_parse', 'hypothesis', 'hypothesis_binary_parse', 'hypothesis_parse', 'genre', 'label'],\n",
       "        num_rows: 9815\n",
       "    })\n",
       "    validation_mismatched: Dataset({\n",
       "        features: ['promptID', 'pairID', 'premise', 'premise_binary_parse', 'premise_parse', 'hypothesis', 'hypothesis_binary_parse', 'hypothesis_parse', 'genre', 'label'],\n",
       "        num_rows: 9832\n",
       "    })\n",
       "})"
      ]
     },
     "execution_count": 12,
     "metadata": {},
     "output_type": "execute_result"
    }
   ],
   "source": [
    "mnli"
   ]
  },
  {
   "cell_type": "code",
   "execution_count": 13,
   "id": "260f7ef1",
   "metadata": {},
   "outputs": [],
   "source": [
    "mnli_train = mnli['train']\n",
    "mnli_val_match = mnli['validation_matched']\n",
    "mnli_val_mismatch = mnli['validation_mismatched']"
   ]
  },
  {
   "cell_type": "code",
   "execution_count": 14,
   "id": "341ca12a",
   "metadata": {},
   "outputs": [
    {
     "data": {
      "text/plain": [
       "Dataset({\n",
       "    features: ['promptID', 'pairID', 'premise', 'premise_binary_parse', 'premise_parse', 'hypothesis', 'hypothesis_binary_parse', 'hypothesis_parse', 'genre', 'label'],\n",
       "    num_rows: 392702\n",
       "})"
      ]
     },
     "execution_count": 14,
     "metadata": {},
     "output_type": "execute_result"
    }
   ],
   "source": [
    "mnli_train"
   ]
  },
  {
   "cell_type": "code",
   "execution_count": 15,
   "id": "7b7d8c18",
   "metadata": {},
   "outputs": [
    {
     "data": {
      "text/plain": [
       "{'promptID': 31193,\n",
       " 'pairID': '31193n',\n",
       " 'premise': 'Conceptually cream skimming has two basic dimensions - product and geography.',\n",
       " 'premise_binary_parse': '( ( Conceptually ( cream skimming ) ) ( ( has ( ( ( two ( basic dimensions ) ) - ) ( ( product and ) geography ) ) ) . ) )',\n",
       " 'premise_parse': '(ROOT (S (NP (JJ Conceptually) (NN cream) (NN skimming)) (VP (VBZ has) (NP (NP (CD two) (JJ basic) (NNS dimensions)) (: -) (NP (NN product) (CC and) (NN geography)))) (. .)))',\n",
       " 'hypothesis': 'Product and geography are what make cream skimming work. ',\n",
       " 'hypothesis_binary_parse': '( ( ( Product and ) geography ) ( ( are ( what ( make ( cream ( skimming work ) ) ) ) ) . ) )',\n",
       " 'hypothesis_parse': '(ROOT (S (NP (NN Product) (CC and) (NN geography)) (VP (VBP are) (SBAR (WHNP (WP what)) (S (VP (VBP make) (NP (NP (NN cream)) (VP (VBG skimming) (NP (NN work)))))))) (. .)))',\n",
       " 'genre': 'government',\n",
       " 'label': 1}"
      ]
     },
     "execution_count": 15,
     "metadata": {},
     "output_type": "execute_result"
    }
   ],
   "source": [
    "mnli_train[0]"
   ]
  },
  {
   "cell_type": "code",
   "execution_count": 16,
   "id": "97c2a49b",
   "metadata": {},
   "outputs": [
    {
     "data": {
      "text/plain": [
       "{'promptID': 37397,\n",
       " 'pairID': '37397e',\n",
       " 'premise': 'How do you know? All this is their information again.',\n",
       " 'premise_binary_parse': '( ( How ( ( ( do you ) know ) ? ) ) ( ( All this ) ( ( ( is ( their information ) ) again ) . ) ) )',\n",
       " 'premise_parse': '(ROOT (S (SBARQ (WHADVP (WRB How)) (SQ (VBP do) (NP (PRP you)) (VP (VB know))) (. ?)) (NP (PDT All) (DT this)) (VP (VBZ is) (NP (PRP$ their) (NN information)) (ADVP (RB again))) (. .)))',\n",
       " 'hypothesis': 'This information belongs to them.',\n",
       " 'hypothesis_binary_parse': '( ( This information ) ( ( belongs ( to them ) ) . ) )',\n",
       " 'hypothesis_parse': '(ROOT (S (NP (DT This) (NN information)) (VP (VBZ belongs) (PP (TO to) (NP (PRP them)))) (. .)))',\n",
       " 'genre': 'fiction',\n",
       " 'label': 0}"
      ]
     },
     "execution_count": 16,
     "metadata": {},
     "output_type": "execute_result"
    }
   ],
   "source": [
    "mnli_train[3]"
   ]
  },
  {
   "cell_type": "markdown",
   "id": "e6412521",
   "metadata": {},
   "source": [
    "# Preprocess dataset QNLI"
   ]
  },
  {
   "cell_type": "code",
   "execution_count": 17,
   "id": "d3f03942",
   "metadata": {},
   "outputs": [],
   "source": [
    "# roberta-base or roberta-large\n",
    "PLM = \"roberta-base\""
   ]
  },
  {
   "cell_type": "code",
   "execution_count": 18,
   "id": "99464e61",
   "metadata": {},
   "outputs": [
    {
     "name": "stderr",
     "output_type": "stream",
     "text": [
      "Some weights of the model checkpoint at roberta-base were not used when initializing RobertaModel: ['lm_head.dense.bias', 'lm_head.bias', 'lm_head.layer_norm.weight', 'lm_head.decoder.weight', 'lm_head.dense.weight', 'lm_head.layer_norm.bias']\n",
      "- This IS expected if you are initializing RobertaModel from the checkpoint of a model trained on another task or with another architecture (e.g. initializing a BertForSequenceClassification model from a BertForPreTraining model).\n",
      "- This IS NOT expected if you are initializing RobertaModel from the checkpoint of a model that you expect to be exactly identical (initializing a BertForSequenceClassification model from a BertForSequenceClassification model).\n"
     ]
    }
   ],
   "source": [
    "# load model\n",
    "model = AutoModel.from_pretrained(PLM)"
   ]
  },
  {
   "cell_type": "code",
   "execution_count": 19,
   "id": "f547cc8e",
   "metadata": {},
   "outputs": [],
   "source": [
    "# load tokeniser for the specific model\n",
    "tokeniser = AutoTokenizer.from_pretrained(PLM)"
   ]
  },
  {
   "cell_type": "code",
   "execution_count": 20,
   "id": "847b2116",
   "metadata": {},
   "outputs": [
    {
     "name": "stdout",
     "output_type": "stream",
     "text": [
      "tensor([[    0, 45093,  2788,     7,  1296,   480, 19233,  6315,   646,  1001,\n",
      "          6747,   102,    12, 11070,   742,     2]])\n"
     ]
    }
   ],
   "source": [
    "# test the tokeniser\n",
    "test_input = \"Simple text to test -- tokenizer [roberta-base]\"\n",
    "tokenised_test_input = tokeniser.encode(test_input, return_tensors=\"pt\")\n",
    "print(tokenised_test_input)"
   ]
  },
  {
   "cell_type": "code",
   "execution_count": 21,
   "id": "92e7e328",
   "metadata": {},
   "outputs": [
    {
     "name": "stdout",
     "output_type": "stream",
     "text": [
      "['<s>', 'Simple', 'Ġtext', 'Ġto', 'Ġtest', 'Ġ--', 'Ġtoken', 'izer', 'Ġ[', 'ro', 'bert', 'a', '-', 'base', ']', '</s>']\n"
     ]
    }
   ],
   "source": [
    "test_token_id_to_text = tokeniser.convert_ids_to_tokens(tokeniser.encode(test_input))\n",
    "print(test_token_id_to_text)"
   ]
  },
  {
   "cell_type": "code",
   "execution_count": 22,
   "id": "cb65310c",
   "metadata": {},
   "outputs": [],
   "source": [
    "# test the model\n",
    "test_output = model(tokenised_test_input)"
   ]
  },
  {
   "cell_type": "code",
   "execution_count": 23,
   "id": "9e6b4cac",
   "metadata": {},
   "outputs": [
    {
     "data": {
      "text/plain": [
       "(torch.Size([1, 16, 768]), torch.Size([1, 768]))"
      ]
     },
     "execution_count": 23,
     "metadata": {},
     "output_type": "execute_result"
    }
   ],
   "source": [
    "\"\"\"\n",
    "First output:\n",
    "# (1,16,768): batch_size * #tokens * embedding_size_defined_by_model\n",
    "# our input is one sentence with 16 tokens\n",
    "Second output - pooler output, the embedding result of the first token of the sequence <s>\n",
    "\"\"\"\n",
    "test_output[0].size(), test_output[1].size()"
   ]
  },
  {
   "cell_type": "code",
   "execution_count": 38,
   "id": "873e3e48",
   "metadata": {},
   "outputs": [],
   "source": [
    "def manual_prompt(questions, answers, template):\n",
    "    prompt = questions + template + answers\n",
    "    prompt_token_id = tokeniser(prompt, return_tensors=\"pt\").input_ids\n",
    "    prompt_id_to_text = tokeniser.convert_ids_to_tokens(prompt_token_id[0])\n",
    "    mask_token_pos = prompt_id_to_text.index(tokeniser.mask_token)\n",
    "    return prompt_token_id, mask_token_pos"
   ]
  },
  {
   "cell_type": "code",
   "execution_count": 34,
   "id": "cdb15512",
   "metadata": {},
   "outputs": [
    {
     "name": "stdout",
     "output_type": "stream",
     "text": [
      "When did the third Digimon series begin? <mask>. Unlike the two seasons before it and most of the seasons that followed, Digimon Tamers takes a darker and more realistic approach to its story featuring Digimon who do not reincarnate after their deaths and more complex character development in the original Japanese.\n"
     ]
    }
   ],
   "source": [
    "manual_template = \" <mask>. \"\n",
    "prompt_token_id, mask_token_pos = manual_prompt(qnli_train[0]['text1'], qnli_train[0]['text2'], manual_template)"
   ]
  },
  {
   "cell_type": "code",
   "execution_count": 26,
   "id": "a1941df3",
   "metadata": {},
   "outputs": [
    {
     "name": "stdout",
     "output_type": "stream",
     "text": [
      "torch.Size([1, 68, 768])\n"
     ]
    }
   ],
   "source": [
    "model.eval()\n",
    "with torch.no_grad():\n",
    "    predictions = model(prompt_token_id)[0]\n",
    "print(predictions.size())"
   ]
  },
  {
   "cell_type": "code",
   "execution_count": 27,
   "id": "a096df1f",
   "metadata": {},
   "outputs": [],
   "source": [
    "values, indices = torch.sort(predictions[0, mask_token_pos], descending=True)"
   ]
  },
  {
   "cell_type": "code",
   "execution_count": 28,
   "id": "dce1cb8b",
   "metadata": {},
   "outputs": [],
   "source": [
    "result = list(zip(tokeniser.convert_ids_to_tokens(indices), values))"
   ]
  },
  {
   "cell_type": "code",
   "execution_count": 29,
   "id": "e2d52a99",
   "metadata": {},
   "outputs": [
    {
     "data": {
      "text/plain": [
       "('Ġreal', tensor(10.3457))"
      ]
     },
     "execution_count": 29,
     "metadata": {},
     "output_type": "execute_result"
    }
   ],
   "source": [
    "result[0]"
   ]
  },
  {
   "cell_type": "code",
   "execution_count": 55,
   "id": "0ca0b349",
   "metadata": {},
   "outputs": [
    {
     "data": {
      "text/plain": [
       "[('Ġreal', tensor(10.3457)),\n",
       " ('k', tensor(0.9194)),\n",
       " ('Ġcountries', tensor(0.6951)),\n",
       " ('Ġhere', tensor(0.6229)),\n",
       " ('Ġwith', tensor(0.5075)),\n",
       " ('b', tensor(0.5044)),\n",
       " ('Ġ17', tensor(0.4998)),\n",
       " ('Ġsome', tensor(0.4802)),\n",
       " ('Ġgroup', tensor(0.4780)),\n",
       " ('Ġdifferent', tensor(0.4544)),\n",
       " ('Ġpublic', tensor(0.4540)),\n",
       " ('<unk>', tensor(0.4357)),\n",
       " ('os', tensor(0.4248)),\n",
       " ('Ġhis', tensor(0.4180)),\n",
       " ('Ġwin', tensor(0.4158)),\n",
       " ('Ġearly', tensor(0.4154)),\n",
       " ('n', tensor(0.4143)),\n",
       " ('Ġboth', tensor(0.3981)),\n",
       " ('Ġfeel', tensor(0.3941)),\n",
       " ('ĠB', tensor(0.3893)),\n",
       " ('l', tensor(0.3667)),\n",
       " ('Ġthe', tensor(0.3628)),\n",
       " ('ĠHowever', tensor(0.3595)),\n",
       " ('N', tensor(0.3575)),\n",
       " ('Ġtogether', tensor(0.3547)),\n",
       " ('ĠG', tensor(0.3540)),\n",
       " ('Ġ3', tensor(0.3531)),\n",
       " ('Ġits', tensor(0.3499)),\n",
       " ('Ġface', tensor(0.3449)),\n",
       " ('.', tensor(0.3404)),\n",
       " ('Ġforward', tensor(0.3401)),\n",
       " ('Ġ21', tensor(0.3373)),\n",
       " ('Ġc', tensor(0.3352)),\n",
       " ('Ġcame', tensor(0.3332)),\n",
       " ('Ġsix', tensor(0.3330)),\n",
       " ('Ġsays', tensor(0.3226)),\n",
       " ('Ġschool', tensor(0.3211)),\n",
       " ('ĠTrump', tensor(0.3191)),\n",
       " ('Ġwhy', tensor(0.3190)),\n",
       " ('Ġsee', tensor(0.3160)),\n",
       " ('Ġyoung', tensor(0.3153)),\n",
       " ('ĺ', tensor(0.3149)),\n",
       " ('Ġsaid', tensor(0.3088)),\n",
       " ('r', tensor(0.3088)),\n",
       " ('Ġline', tensor(0.3050)),\n",
       " ('Ġlocal', tensor(0.3037)),\n",
       " (\"'\", tensor(0.3032)),\n",
       " ('Ġhalf', tensor(0.3031)),\n",
       " ('Ġ&', tensor(0.2992)),\n",
       " ('Ġbecause', tensor(0.2964)),\n",
       " ('Ġresearch', tensor(0.2954)),\n",
       " ('Ġindustry', tensor(0.2948)),\n",
       " ('Ġhow', tensor(0.2920)),\n",
       " ('Ġfree', tensor(0.2914)),\n",
       " ('Ġused', tensor(0.2903)),\n",
       " ('m', tensor(0.2897)),\n",
       " ('Ġend', tensor(0.2864)),\n",
       " ('ĠIt', tensor(0.2830)),\n",
       " ('Ġless', tensor(0.2823)),\n",
       " ('1', tensor(0.2785)),\n",
       " ('Ġtoday', tensor(0.2688)),\n",
       " ('Ġuntil', tensor(0.2644)),\n",
       " ('Ġhas', tensor(0.2630)),\n",
       " ('Ġfive', tensor(0.2605)),\n",
       " ('Ġwomen', tensor(0.2593)),\n",
       " ('Ġincrease', tensor(0.2593)),\n",
       " ('Ġ16', tensor(0.2580)),\n",
       " ('Ã«', tensor(0.2522)),\n",
       " ('Ġcompanies', tensor(0.2513)),\n",
       " ('Ġ50', tensor(0.2498)),\n",
       " ('ĠFacebook', tensor(0.2457)),\n",
       " ('ĠJ', tensor(0.2457)),\n",
       " ('ĠE', tensor(0.2452)),\n",
       " ('Ġor', tensor(0.2432)),\n",
       " ('P', tensor(0.2432)),\n",
       " ('Ġmen', tensor(0.2429)),\n",
       " ('Ġ9', tensor(0.2428)),\n",
       " ('ĠAl', tensor(0.2423)),\n",
       " ('ĠWhat', tensor(0.2422)),\n",
       " ('Ġs', tensor(0.2407)),\n",
       " ('Ġcourt', tensor(0.2403)),\n",
       " ('Ġwould', tensor(0.2399)),\n",
       " ('ĠNorth', tensor(0.2378)),\n",
       " ('Ġtook', tensor(0.2365)),\n",
       " ('Ġnear', tensor(0.2363)),\n",
       " ('Ġbased', tensor(0.2353)),\n",
       " ('Ġstrong', tensor(0.2338)),\n",
       " ('Ġfound', tensor(0.2336)),\n",
       " ('st', tensor(0.2335)),\n",
       " ('Ġwithout', tensor(0.2329)),\n",
       " ('30', tensor(0.2322)),\n",
       " ('Ġorder', tensor(0.2318)),\n",
       " ('Ġinformation', tensor(0.2303)),\n",
       " ('Ġseveral', tensor(0.2276)),\n",
       " ('Ġacross', tensor(0.2274)),\n",
       " ('Ġstudents', tensor(0.2248)),\n",
       " ('ĠJanuary', tensor(0.2244)),\n",
       " ('Ġwell', tensor(0.2229)),\n",
       " (\"'ll\", tensor(0.2223)),\n",
       " ('ĠAmerican', tensor(0.2221)),\n",
       " ('...', tensor(0.2209)),\n",
       " ('Ġposition', tensor(0.2197)),\n",
       " ('Ġsocial', tensor(0.2195)),\n",
       " ('9', tensor(0.2194)),\n",
       " ('ĠWe', tensor(0.2193)),\n",
       " ('Ġgames', tensor(0.2190)),\n",
       " ('ĠCounty', tensor(0.2173)),\n",
       " ('O', tensor(0.2170)),\n",
       " ('Ġnational', tensor(0.2158)),\n",
       " ('Ġall', tensor(0.2121)),\n",
       " ('Ġday', tensor(0.2120)),\n",
       " ('Ġbusiness', tensor(0.2084)),\n",
       " ('Ġmy', tensor(0.2080)),\n",
       " ('he', tensor(0.2075)),\n",
       " ('Ġstart', tensor(0.2071)),\n",
       " ('Ġduring', tensor(0.2058)),\n",
       " ('Ġgot', tensor(0.2047)),\n",
       " ('The', tensor(0.2033)),\n",
       " ('Ġ2017', tensor(0.2015)),\n",
       " ('Ġsupport', tensor(0.2008)),\n",
       " ('Ġpast', tensor(0.1970)),\n",
       " ('Ġis', tensor(0.1966)),\n",
       " ('ing', tensor(0.1964)),\n",
       " ('Ġrecently', tensor(0.1959)),\n",
       " ('Ŀ', tensor(0.1950)),\n",
       " ('ĠCity', tensor(0.1942)),\n",
       " ('Ġhours', tensor(0.1933)),\n",
       " ('ĠChina', tensor(0.1915)),\n",
       " ('ĠU', tensor(0.1909)),\n",
       " ('ic', tensor(0.1905)),\n",
       " ('ĠMarch', tensor(0.1898)),\n",
       " ('Ġyet', tensor(0.1892)),\n",
       " ('Ġoutside', tensor(0.1890)),\n",
       " ('ĠWhite', tensor(0.1886)),\n",
       " ('i', tensor(0.1879)),\n",
       " ('AP', tensor(0.1867)),\n",
       " ('le', tensor(0.1846)),\n",
       " ('Ġagain', tensor(0.1845)),\n",
       " ('8', tensor(0.1828)),\n",
       " ('Ġlevel', tensor(0.1809)),\n",
       " ('Ġcan', tensor(0.1791)),\n",
       " ('I', tensor(0.1781)),\n",
       " ('Ġ\"', tensor(0.1770)),\n",
       " ('Ġbeen', tensor(0.1753)),\n",
       " ('it', tensor(0.1744)),\n",
       " ('the', tensor(0.1731)),\n",
       " ('Ġhit', tensor(0.1728)),\n",
       " ('Ġdeath', tensor(0.1722)),\n",
       " ('.\"', tensor(0.1716)),\n",
       " ('Ġrecent', tensor(0.1707)),\n",
       " ('Ġkey', tensor(0.1699)),\n",
       " ('A', tensor(0.1678)),\n",
       " ('Ġover', tensor(0.1662)),\n",
       " ('Ġperiod', tensor(0.1656)),\n",
       " ('Ġany', tensor(0.1641)),\n",
       " ('Ġmaking', tensor(0.1630)),\n",
       " ('Ġshot', tensor(0.1628)),\n",
       " ('year', tensor(0.1614)),\n",
       " ('Ġcare', tensor(0.1610)),\n",
       " ('Ġreleased', tensor(0.1597)),\n",
       " ('ĠTuesday', tensor(0.1593)),\n",
       " ('ĠWith', tensor(0.1590)),\n",
       " ('Ġuse', tensor(0.1587)),\n",
       " ('Ġsame', tensor(0.1574)),\n",
       " ('ley', tensor(0.1548)),\n",
       " ('ĠJuly', tensor(0.1541)),\n",
       " ('Ġshe', tensor(0.1534)),\n",
       " ('Ġsystem', tensor(0.1529)),\n",
       " ('h', tensor(0.1524)),\n",
       " ('Ġthat', tensor(0.1499)),\n",
       " ('Ġquarter', tensor(0.1491)),\n",
       " ('ĠD', tensor(0.1479)),\n",
       " ('Ġbillion', tensor(0.1467)),\n",
       " ('Ġknow', tensor(0.1464)),\n",
       " ('Ġhigh', tensor(0.1457)),\n",
       " ('u', tensor(0.1453)),\n",
       " ('ĠMay', tensor(0.1439)),\n",
       " ('Ġcase', tensor(0.1439)),\n",
       " ('Ġaround', tensor(0.1425)),\n",
       " ('Ġcareer', tensor(0.1421)),\n",
       " ('el', tensor(0.1410)),\n",
       " ('Ġlead', tensor(0.1377)),\n",
       " ('Ġknown', tensor(0.1375)),\n",
       " ('Ġcity', tensor(0.1375)),\n",
       " ('Ġworld', tensor(0.1373)),\n",
       " ('Ġjob', tensor(0.1367)),\n",
       " ('ers', tensor(0.1366)),\n",
       " ('Ġdecision', tensor(0.1362)),\n",
       " ('Ġnever', tensor(0.1353)),\n",
       " ('Ġplans', tensor(0.1350)),\n",
       " ('Ġweek', tensor(0.1349)),\n",
       " ('Ġplay', tensor(0.1335)),\n",
       " ('ĠCh', tensor(0.1332)),\n",
       " ('ĠBut', tensor(0.1332)),\n",
       " ('Ġmarket', tensor(0.1327)),\n",
       " ('âĢ', tensor(0.1326)),\n",
       " ('ĠOn', tensor(0.1323)),\n",
       " ('6', tensor(0.1311)),\n",
       " ('ĠW', tensor(0.1304)),\n",
       " ('Ġput', tensor(0.1280)),\n",
       " ('Ġpolicy', tensor(0.1276)),\n",
       " ('ĠInc', tensor(0.1275)),\n",
       " ('Ġtrying', tensor(0.1270)),\n",
       " ('Ġevery', tensor(0.1259)),\n",
       " ('Ġ100', tensor(0.1252)),\n",
       " ('Ġsales', tensor(0.1248)),\n",
       " (']', tensor(0.1242)),\n",
       " ('Ġthree', tensor(0.1238)),\n",
       " ('Ġbig', tensor(0.1234)),\n",
       " ('Ġbehind', tensor(0.1223)),\n",
       " ('Ġhave', tensor(0.1215)),\n",
       " ('ĠYork', tensor(0.1206)),\n",
       " ('Ġdoesn', tensor(0.1198)),\n",
       " ('Ġher', tensor(0.1198)),\n",
       " ('Ġcome', tensor(0.1180)),\n",
       " ('a', tensor(0.1175)),\n",
       " ('ĠâĢ', tensor(0.1167)),\n",
       " ('E', tensor(0.1158)),\n",
       " ('ĠâĢĵ', tensor(0.1155)),\n",
       " ('j', tensor(0.1142)),\n",
       " ('Ġclear', tensor(0.1141)),\n",
       " ('Ġfact', tensor(0.1139)),\n",
       " ('ĠSan', tensor(0.1125)),\n",
       " ('Ġ[', tensor(0.1123)),\n",
       " ('),', tensor(0.1122)),\n",
       " ('Ġsecond', tensor(0.1120)),\n",
       " ('Ġoffice', tensor(0.1114)),\n",
       " ('Ġv', tensor(0.1106)),\n",
       " ('Ġfinancial', tensor(0.1102)),\n",
       " ('Ġled', tensor(0.1099)),\n",
       " ('Ġshare', tensor(0.1085)),\n",
       " ('Ġ4', tensor(0.1083)),\n",
       " ('Ġnow', tensor(0.1080)),\n",
       " ('ch', tensor(0.1080)),\n",
       " ('Ġcar', tensor(0.1071)),\n",
       " ('Ġnext', tensor(0.1062)),\n",
       " ('Ġyour', tensor(0.1058)),\n",
       " ('g', tensor(0.1055)),\n",
       " ('com', tensor(0.1049)),\n",
       " ('ĠH', tensor(0.1036)),\n",
       " ('Ġbelieve', tensor(0.1033)),\n",
       " ('Ġplayed', tensor(0.1007)),\n",
       " ('ĠTo', tensor(0.1007)),\n",
       " ('v', tensor(0.0997)),\n",
       " ('Ġcontinue', tensor(0.0989)),\n",
       " ('Ġthird', tensor(0.0985)),\n",
       " ('t', tensor(0.0972)),\n",
       " ('Ġn', tensor(0.0963)),\n",
       " ('Ġafter', tensor(0.0962)),\n",
       " ('Ġcomes', tensor(0.0958)),\n",
       " ('Ġformer', tensor(0.0951)),\n",
       " ('ĠP', tensor(0.0932)),\n",
       " ('Ġgive', tensor(0.0927)),\n",
       " ('Ġchange', tensor(0.0924)),\n",
       " ('ĠAmerica', tensor(0.0924)),\n",
       " ('Ġfirst', tensor(0.0915)),\n",
       " ('ĠOne', tensor(0.0906)),\n",
       " ('Ġtax', tensor(0.0905)),\n",
       " ('Ġmedia', tensor(0.0897)),\n",
       " ('Ġlove', tensor(0.0896)),\n",
       " ('Ġreturn', tensor(0.0894)),\n",
       " ('Ġfar', tensor(0.0892)),\n",
       " ('as', tensor(0.0889)),\n",
       " ('Ġpresident', tensor(0.0879)),\n",
       " ('ist', tensor(0.0872)),\n",
       " ('Ġeach', tensor(0.0865)),\n",
       " ('us', tensor(0.0856)),\n",
       " ('/', tensor(0.0852)),\n",
       " ('Ġplayers', tensor(0.0847)),\n",
       " ('Ġcurrent', tensor(0.0841)),\n",
       " ('Ġme', tensor(0.0836)),\n",
       " ('Ġseason', tensor(0.0826)),\n",
       " ('Ġsure', tensor(0.0825)),\n",
       " ('Ġstate', tensor(0.0818)),\n",
       " ('Ġnew', tensor(0.0796)),\n",
       " ('ĠStates', tensor(0.0786)),\n",
       " ('ĠAfter', tensor(0.0786)),\n",
       " ('ĠIf', tensor(0.0784)),\n",
       " ('Ġwater', tensor(0.0774)),\n",
       " ('Ġdon', tensor(0.0763)),\n",
       " ('Ġ--', tensor(0.0758)),\n",
       " ('Ġp', tensor(0.0752)),\n",
       " ('Ġoil', tensor(0.0735)),\n",
       " ('Ġlooking', tensor(0.0728)),\n",
       " ('Ġeven', tensor(0.0714)),\n",
       " ('Ġmajor', tensor(0.0707)),\n",
       " ('ĠSo', tensor(0.0698)),\n",
       " ('Ġmay', tensor(0.0697)),\n",
       " ('Ġby', tensor(0.0676)),\n",
       " ('Ġnumber', tensor(0.0654)),\n",
       " ('Ġ15', tensor(0.0654)),\n",
       " ('Ġimportant', tensor(0.0642)),\n",
       " ('Ġthere', tensor(0.0625)),\n",
       " ('!', tensor(0.0614)),\n",
       " ('Ġown', tensor(0.0613)),\n",
       " ('Ġgetting', tensor(0.0605)),\n",
       " ('Ġfurther', tensor(0.0597)),\n",
       " ('Ġtaking', tensor(0.0588)),\n",
       " ('Ġget', tensor(0.0588)),\n",
       " ('âĢĶ', tensor(0.0578)),\n",
       " ('Ġd', tensor(0.0576)),\n",
       " ('ĠHouse', tensor(0.0569)),\n",
       " (',', tensor(0.0567)),\n",
       " ('Ġrecord', tensor(0.0564)),\n",
       " ('R', tensor(0.0559)),\n",
       " ('Ġlittle', tensor(0.0558)),\n",
       " ('Ġglobal', tensor(0.0557)),\n",
       " ('Ġone', tensor(0.0548)),\n",
       " ('Ġk', tensor(0.0543)),\n",
       " ('Ġparty', tensor(0.0541)),\n",
       " ('Ġkind', tensor(0.0540)),\n",
       " ('Ġagainst', tensor(0.0533)),\n",
       " (\"'m\", tensor(0.0531)),\n",
       " ('Ġ10', tensor(0.0531)),\n",
       " ('Ġpolitical', tensor(0.0524)),\n",
       " ('Ġvideo', tensor(0.0521)),\n",
       " ('Ġwere', tensor(0.0518)),\n",
       " ('Ġand', tensor(0.0513)),\n",
       " ('ĠV', tensor(0.0512)),\n",
       " ('Ġpercent', tensor(0.0508)),\n",
       " ('Ġif', tensor(0.0502)),\n",
       " ('Ġdue', tensor(0.0498)),\n",
       " ('Ġworking', tensor(0.0494)),\n",
       " ('re', tensor(0.0490)),\n",
       " ('Ġclose', tensor(0.0488)),\n",
       " ('%', tensor(0.0486)),\n",
       " ('Ġwas', tensor(0.0480)),\n",
       " ('Ġago', tensor(0.0479)),\n",
       " ('Ġrating', tensor(0.0468)),\n",
       " ('or', tensor(0.0466)),\n",
       " ('ľ', tensor(0.0465)),\n",
       " ('Ġaccording', tensor(0.0460)),\n",
       " ('Ġ(', tensor(0.0453)),\n",
       " ('to', tensor(0.0450)),\n",
       " ('C', tensor(0.0441)),\n",
       " ('Ġseven', tensor(0.0441)),\n",
       " ('Ġ1', tensor(0.0440)),\n",
       " ('Ġtrade', tensor(0.0427)),\n",
       " ('Ġfinal', tensor(0.0412)),\n",
       " ('Ġ18', tensor(0.0408)),\n",
       " ('<s>', tensor(0.0406)),\n",
       " ('Ġdidn', tensor(0.0405)),\n",
       " ('Ġsay', tensor(0.0384)),\n",
       " ('Ġusing', tensor(0.0375)),\n",
       " ('Ġwoman', tensor(0.0366)),\n",
       " ('Ġthese', tensor(0.0366)),\n",
       " ('Ġyears', tensor(0.0346)),\n",
       " ('Ġthan', tensor(0.0334)),\n",
       " ('Ġhim', tensor(0.0329)),\n",
       " ('Ġbefore', tensor(0.0327)),\n",
       " ('Ġ6', tensor(0.0324)),\n",
       " ('.,', tensor(0.0321)),\n",
       " ('Ġcompany', tensor(0.0318)),\n",
       " ('ĠJune', tensor(0.0310)),\n",
       " ('Ġfire', tensor(0.0310)),\n",
       " ('ĠO', tensor(0.0306)),\n",
       " ('Ġhard', tensor(0.0306)),\n",
       " ('Ġsaying', tensor(0.0304)),\n",
       " ('e', tensor(0.0303)),\n",
       " ('en', tensor(0.0301)),\n",
       " ('in', tensor(0.0293)),\n",
       " ('et', tensor(0.0287)),\n",
       " ('Ġgrowth', tensor(0.0282)),\n",
       " ('Ġhome', tensor(0.0281)),\n",
       " ('It', tensor(0.0275)),\n",
       " ('ĠPresident', tensor(0.0259)),\n",
       " ('Ġcould', tensor(0.0258)),\n",
       " ('Ġmight', tensor(0.0258)),\n",
       " ('D', tensor(0.0256)),\n",
       " ('ĠK', tensor(0.0249)),\n",
       " ('Ġteam', tensor(0.0242)),\n",
       " ('ĠF', tensor(0.0235)),\n",
       " ('Ġarea', tensor(0.0222)),\n",
       " ('Ġsecurity', tensor(0.0219)),\n",
       " ('Ġtake', tensor(0.0213)),\n",
       " ('ĠYou', tensor(0.0212)),\n",
       " ('ĠA', tensor(0.0200)),\n",
       " ('Ġplan', tensor(0.0198)),\n",
       " ('ly', tensor(0.0188)),\n",
       " ('Ġ2016', tensor(0.0175)),\n",
       " ('Ġ8', tensor(0.0171)),\n",
       " ('Ġmorning', tensor(0.0168)),\n",
       " ('Ġfull', tensor(0.0163)),\n",
       " ('-', tensor(0.0160)),\n",
       " ('Ġdoes', tensor(0.0151)),\n",
       " ('Ġservice', tensor(0.0148)),\n",
       " ('Ġalong', tensor(0.0145)),\n",
       " ('ed', tensor(0.0135)),\n",
       " ('Ġhelp', tensor(0.0135)),\n",
       " ('Ġreported', tensor(0.0133)),\n",
       " ('ĠIn', tensor(0.0129)),\n",
       " ('Ġexperience', tensor(0.0126)),\n",
       " ('ĠShe', tensor(0.0121)),\n",
       " ('Ġdoing', tensor(0.0118)),\n",
       " ('Ġper', tensor(0.0117)),\n",
       " ('Ġof', tensor(0.0102)),\n",
       " ('0', tensor(0.0102)),\n",
       " ('Ġbetween', tensor(0.0090)),\n",
       " ('Ġlarge', tensor(0.0078)),\n",
       " ('ĠSt', tensor(0.0078)),\n",
       " ('Ġgoal', tensor(0.0072)),\n",
       " ('Ġadded', tensor(0.0062)),\n",
       " ('ĠMr', tensor(0.0050)),\n",
       " ('Ġjust', tensor(0.0048)),\n",
       " ('ĠThursday', tensor(0.0035)),\n",
       " ('Ġsince', tensor(0.0033)),\n",
       " (').', tensor(0.0029)),\n",
       " ('Ġcampaign', tensor(0.0026)),\n",
       " ('Ġlate', tensor(0.0023)),\n",
       " ('Ġ$', tensor(-8.8119e-05)),\n",
       " ('Ġlong', tensor(-0.0003)),\n",
       " ('Ġfollowing', tensor(-0.0007)),\n",
       " ('Ġmillion', tensor(-0.0020)),\n",
       " ('ĠJohn', tensor(-0.0021)),\n",
       " ('Ġwent', tensor(-0.0026)),\n",
       " ('Ġearlier', tensor(-0.0035)),\n",
       " ('ĠDecember', tensor(-0.0042)),\n",
       " ('10', tensor(-0.0057)),\n",
       " ('Ġ20', tensor(-0.0068)),\n",
       " ('Ġhigher', tensor(-0.0097)),\n",
       " ('Ġman', tensor(-0.0104)),\n",
       " ('Ġlive', tensor(-0.0106)),\n",
       " ('Ġwhether', tensor(-0.0137)),\n",
       " ('Ġset', tensor(-0.0143)),\n",
       " ('ad', tensor(-0.0156)),\n",
       " ('Ġlikely', tensor(-0.0157)),\n",
       " ('F', tensor(-0.0159)),\n",
       " ('Ġfuture', tensor(-0.0162)),\n",
       " ('Ġneed', tensor(-0.0162)),\n",
       " ('Ġbecome', tensor(-0.0163)),\n",
       " ('Ġwe', tensor(-0.0166)),\n",
       " ('Ġmuch', tensor(-0.0166)),\n",
       " ('Ġfood', tensor(-0.0167)),\n",
       " ('ĠR', tensor(-0.0168)),\n",
       " ('Ġtop', tensor(-0.0169)),\n",
       " ('Ġlike', tensor(-0.0179)),\n",
       " ('ĠPolice', tensor(-0.0182)),\n",
       " ('?', tensor(-0.0199)),\n",
       " ('Ġwill', tensor(-0.0202)),\n",
       " ('Ġalready', tensor(-0.0202)),\n",
       " ('This', tensor(-0.0227)),\n",
       " (\"Ġ'\", tensor(-0.0230)),\n",
       " ('Ġonce', tensor(-0.0230)),\n",
       " ('Ġsuch', tensor(-0.0231)),\n",
       " ('Ġtoo', tensor(-0.0232)),\n",
       " ('Ġhe', tensor(-0.0234)),\n",
       " ('H', tensor(-0.0236)),\n",
       " ('Ġbeing', tensor(-0.0238)),\n",
       " ('Ġwho', tensor(-0.0241)),\n",
       " ('7', tensor(-0.0252)),\n",
       " ('Ļ', tensor(-0.0262)),\n",
       " ('Ġhealth', tensor(-0.0266)),\n",
       " ('up', tensor(-0.0273)),\n",
       " ('ĠWhen', tensor(-0.0277)),\n",
       " ('Ġgiven', tensor(-0.0279)),\n",
       " ('ĠL', tensor(-0.0289)),\n",
       " ('ĠMinister', tensor(-0.0290)),\n",
       " ('im', tensor(-0.0302)),\n",
       " ('Ġamong', tensor(-0.0302)),\n",
       " ('ĠTwitter', tensor(-0.0303)),\n",
       " ('Ġgame', tensor(-0.0305)),\n",
       " ('ĠAll', tensor(-0.0306)),\n",
       " ('es', tensor(-0.0310)),\n",
       " ('Ġofficials', tensor(-0.0319)),\n",
       " ('Ġgovernment', tensor(-0.0328)),\n",
       " ('Ġmost', tensor(-0.0332)),\n",
       " ('Ġare', tensor(-0.0332)),\n",
       " ('ar', tensor(-0.0340)),\n",
       " ('Ġelection', tensor(-0.0341)),\n",
       " ('Ġdo', tensor(-0.0345)),\n",
       " ('Ġ30', tensor(-0.0347)),\n",
       " ('ĠSunday', tensor(-0.0348)),\n",
       " ('ra', tensor(-0.0355)),\n",
       " ('Ġfrom', tensor(-0.0356)),\n",
       " ('Ġa', tensor(-0.0358)),\n",
       " ('Ġwant', tensor(-0.0365)),\n",
       " ('ĠThis', tensor(-0.0376)),\n",
       " ('er', tensor(-0.0377)),\n",
       " ('ak', tensor(-0.0380)),\n",
       " ('ĠWednesday', tensor(-0.0400)),\n",
       " ('S', tensor(-0.0401)),\n",
       " ('Ġbe', tensor(-0.0403)),\n",
       " ('Ġplace', tensor(-0.0405)),\n",
       " ('Ġlow', tensor(-0.0406)),\n",
       " ('at', tensor(-0.0410)),\n",
       " ('Ġwon', tensor(-0.0416)),\n",
       " ('z', tensor(-0.0423)),\n",
       " ('ĠAs', tensor(-0.0426)),\n",
       " ('ĠHe', tensor(-0.0428)),\n",
       " ('Ġoff', tensor(-0.0444)),\n",
       " ('B', tensor(-0.0457)),\n",
       " ('ĠWhile', tensor(-0.0461)),\n",
       " ('Ġonly', tensor(-0.0472)),\n",
       " ('Ġdone', tensor(-0.0473)),\n",
       " ('Ġexpected', tensor(-0.0473)),\n",
       " ('ĠUnited', tensor(-0.0473)),\n",
       " ('o', tensor(-0.0474)),\n",
       " ('Ġyear', tensor(-0.0480)),\n",
       " ('Ġtotal', tensor(-0.0482)),\n",
       " ('ĠN', tensor(-0.0488)),\n",
       " ('Ġan', tensor(-0.0497)),\n",
       " ('Ġ2018', tensor(-0.0499)),\n",
       " ('Ġfind', tensor(-0.0504)),\n",
       " ('Ġalso', tensor(-0.0511)),\n",
       " ('ĠDepartment', tensor(-0.0512)),\n",
       " ('am', tensor(-0.0516)),\n",
       " ('Ġtwo', tensor(-0.0521)),\n",
       " ('ĠT', tensor(-0.0528)),\n",
       " ('Ġreports', tensor(-0.0532)),\n",
       " ('Ġthem', tensor(-0.0535)),\n",
       " ('Ġdirector', tensor(-0.0549)),\n",
       " ('Ġde', tensor(-0.0557)),\n",
       " ('Ġ7', tensor(-0.0557)),\n",
       " ('Ġmade', tensor(-0.0569)),\n",
       " ('Ġgoing', tensor(-0.0597)),\n",
       " ('Ġmove', tensor(-0.0598)),\n",
       " ('ĠI', tensor(-0.0599)),\n",
       " ('Ġshort', tensor(-0.0601)),\n",
       " ('Ġhistory', tensor(-0.0605)),\n",
       " ('Ġto', tensor(-0.0605)),\n",
       " ('Ġpower', tensor(-0.0609)),\n",
       " ('Ġfew', tensor(-0.0617)),\n",
       " ('Ġam', tensor(-0.0618)),\n",
       " ('Ġthey', tensor(-0.0621)),\n",
       " ('ie', tensor(-0.0626)),\n",
       " ('ĠThat', tensor(-0.0643)),\n",
       " ('Ġb', tensor(-0.0650)),\n",
       " ('Ġopen', tensor(-0.0656)),\n",
       " ('Ġlaw', tensor(-0.0658)),\n",
       " ('Ä', tensor(-0.0658)),\n",
       " ('Ġheld', tensor(-0.0660)),\n",
       " ('Ġstill', tensor(-0.0669)),\n",
       " ('ĠSaturday', tensor(-0.0670)),\n",
       " ('Ġcall', tensor(-0.0671)),\n",
       " ('Ġreport', tensor(-0.0672)),\n",
       " ('We', tensor(-0.0672)),\n",
       " (\"'re\", tensor(-0.0673)),\n",
       " ('Ġwhere', tensor(-0.0674)),\n",
       " ('M', tensor(-0.0677)),\n",
       " ('ĠWorld', tensor(-0.0685)),\n",
       " ('Ġfour', tensor(-0.0698)),\n",
       " ('Ġcost', tensor(-0.0703)),\n",
       " ('ĠNew', tensor(-0.0707)),\n",
       " ('Ġasked', tensor(-0.0721)),\n",
       " ('Ġleft', tensor(-0.0727)),\n",
       " ('Ġpost', tensor(-0.0731)),\n",
       " ('Ġissues', tensor(-0.0733)),\n",
       " ('Ġnot', tensor(-0.0736)),\n",
       " ('00', tensor(-0.0742)),\n",
       " ('Ġbest', tensor(-0.0743)),\n",
       " ('Ġpolice', tensor(-0.0744)),\n",
       " ('Ġthose', tensor(-0.0754)),\n",
       " ('Ġmore', tensor(-0.0772)),\n",
       " ('Ġ-', tensor(-0.0775)),\n",
       " ('Ġstock', tensor(-0.0775)),\n",
       " ('Ġoften', tensor(-0.0775)),\n",
       " ('ĠAn', tensor(-0.0777)),\n",
       " ('L', tensor(-0.0782)),\n",
       " ('ĠThe', tensor(-0.0792)),\n",
       " ('Ġannounced', tensor(-0.0798)),\n",
       " ('Ġthrough', tensor(-0.0811)),\n",
       " ('Ġstory', tensor(-0.0815)),\n",
       " ('Ġ14', tensor(-0.0816)),\n",
       " ('p', tensor(-0.0820)),\n",
       " ('Ġm', tensor(-0.0829)),\n",
       " (',\"', tensor(-0.0833)),\n",
       " ('Ġaway', tensor(-0.0833)),\n",
       " ('an', tensor(-0.0853)),\n",
       " ('Ġhead', tensor(-0.0855)),\n",
       " ('Ġprocess', tensor(-0.0859)),\n",
       " ('Ġfamily', tensor(-0.0865)),\n",
       " ('Ġever', tensor(-0.0877)),\n",
       " ('Ġname', tensor(-0.0879)),\n",
       " ('\"', tensor(-0.0885)),\n",
       " ('ĠC', tensor(-0.0914)),\n",
       " ('Ġbetter', tensor(-0.0940)),\n",
       " ('al', tensor(-0.0945)),\n",
       " ('Ġbuilding', tensor(-0.0947)),\n",
       " ('Ġvery', tensor(-0.0947)),\n",
       " ('Ġminutes', tensor(-0.0969)),\n",
       " ('Ġreally', tensor(-0.0970)),\n",
       " ('ĠAnd', tensor(-0.0982)),\n",
       " ('Ġhad', tensor(-0.0986)),\n",
       " ('Ġsomething', tensor(-0.0998)),\n",
       " ('ĠThere', tensor(-0.1011)),\n",
       " ('Ġside', tensor(-0.1016)),\n",
       " ('ĠAccording', tensor(-0.1027)),\n",
       " ('Ġ19', tensor(-0.1033)),\n",
       " ('ĠThey', tensor(-0.1034)),\n",
       " ('Ġtheir', tensor(-0.1039)),\n",
       " ('Ġdevelopment', tensor(-0.1043)),\n",
       " ('Ġlot', tensor(-0.1046)),\n",
       " ('Ġlater', tensor(-0.1054)),\n",
       " ('Ġprice', tensor(-0.1083)),\n",
       " ('ĠUS', tensor(-0.1085)),\n",
       " ('Ġwhile', tensor(-0.1115)),\n",
       " ('Ġtimes', tensor(-0.1127)),\n",
       " ('Ġmoney', tensor(-0.1129)),\n",
       " ('Ġthen', tensor(-0.1133)),\n",
       " ('3', tensor(-0.1153)),\n",
       " ('</s>', tensor(-0.1153)),\n",
       " ('Ġtaken', tensor(-0.1164)),\n",
       " ('Ġmonth', tensor(-0.1165)),\n",
       " ('Ġpoint', tensor(-0.1178)),\n",
       " ('Ġour', tensor(-0.1181)),\n",
       " ('Ġgreat', tensor(-0.1184)),\n",
       " ('Ġunder', tensor(-0.1187)),\n",
       " ('Ġ.', tensor(-0.1192)),\n",
       " ('Ġdata', tensor(-0.1208)),\n",
       " ('ĠM', tensor(-0.1219)),\n",
       " ('Ġdays', tensor(-0.1242)),\n",
       " ('Ġcoming', tensor(-0.1243)),\n",
       " ('Ġissue', tensor(-0.1250)),\n",
       " ('ĠIndia', tensor(-0.1255)),\n",
       " ('Ġpoints', tensor(-0.1266)),\n",
       " ('Ġout', tensor(-0.1267)),\n",
       " ('Ġpossible', tensor(-0.1273)),\n",
       " ('Ġweeks', tensor(-0.1275)),\n",
       " (':', tensor(-0.1275)),\n",
       " ('Ġ5', tensor(-0.1277)),\n",
       " ('ĠFriday', tensor(-0.1282)),\n",
       " ('Ġso', tensor(-0.1285)),\n",
       " ('ĠUniversity', tensor(-0.1302)),\n",
       " ('Ġus', tensor(-0.1329)),\n",
       " ('d', tensor(-0.1330)),\n",
       " ('Ġinto', tensor(-0.1331)),\n",
       " ('ĠS', tensor(-0.1334)),\n",
       " ('K', tensor(-0.1343)),\n",
       " ('Ġnews', tensor(-0.1355)),\n",
       " ('Ġ12', tensor(-0.1360)),\n",
       " ('Ġthink', tensor(-0.1394)),\n",
       " ('ĠâĢĶ', tensor(-0.1396)),\n",
       " ('Ġcountry', tensor(-0.1424)),\n",
       " ('Ġlast', tensor(-0.1426)),\n",
       " ('old', tensor(-0.1431)),\n",
       " ('Ġlook', tensor(-0.1431)),\n",
       " ('Ġwork', tensor(-0.1433)),\n",
       " ('Ġthings', tensor(-0.1439)),\n",
       " ('c', tensor(-0.1440)),\n",
       " ('Ġlife', tensor(-0.1456)),\n",
       " ('Ġothers', tensor(-0.1474)),\n",
       " ('5', tensor(-0.1498)),\n",
       " ('Ġway', tensor(-0.1516)),\n",
       " ('ur', tensor(-0.1518)),\n",
       " ('ĠHigh', tensor(-0.1527)),\n",
       " ('Ġsmall', tensor(-0.1558)),\n",
       " ('ĠApril', tensor(-0.1591)),\n",
       " ('Ġleast', tensor(-0.1598)),\n",
       " ('Ġup', tensor(-0.1603)),\n",
       " ('Ġthing', tensor(-0.1616)),\n",
       " ('Ġservices', tensor(-0.1620)),\n",
       " ('Ġno', tensor(-0.1635)),\n",
       " ('Ġfor', tensor(-0.1647)),\n",
       " ('Ġchildren', tensor(-0.1649)),\n",
       " ('Ġ0', tensor(-0.1653)),\n",
       " ('Ġcommunity', tensor(-0.1665)),\n",
       " ('and', tensor(-0.1678)),\n",
       " ('Ġat', tensor(-0.1683)),\n",
       " ('Ġin', tensor(-0.1692)),\n",
       " ('Ġshould', tensor(-0.1711)),\n",
       " ('Ġ13', tensor(-0.1724)),\n",
       " ('Ġ2015', tensor(-0.1730)),\n",
       " ('Ġabout', tensor(-0.1733)),\n",
       " ('Ġmeeting', tensor(-0.1740)),\n",
       " ('Ġdown', tensor(-0.1772)),\n",
       " ('Ġevent', tensor(-0.1775)),\n",
       " ('Ġ2', tensor(-0.1788)),\n",
       " ('Ġlost', tensor(-0.1793)),\n",
       " ('Ġstarted', tensor(-0.1795)),\n",
       " ('ĠWest', tensor(-0.1826)),\n",
       " ('Ġbut', tensor(-0.1845)),\n",
       " ('ĠFor', tensor(-0.1857)),\n",
       " ('Ġmonths', tensor(-0.1858)),\n",
       " ('Ġtime', tensor(-0.1867)),\n",
       " ('Ġt', tensor(-0.1881)),\n",
       " ('Ġother', tensor(-0.1889)),\n",
       " ('f', tensor(-0.1912)),\n",
       " ('Ġ25', tensor(-0.1920)),\n",
       " ('<pad>', tensor(-0.1921)),\n",
       " ('Ġmany', tensor(-0.1924)),\n",
       " ('Ġavailable', tensor(-0.1940)),\n",
       " ('Ġalways', tensor(-0.1943)),\n",
       " ('ĠZ', tensor(-0.1952)),\n",
       " ('Ġperson', tensor(-0.1962)),\n",
       " ('ĠMonday', tensor(-0.1983)),\n",
       " ('Ġ11', tensor(-0.1992)),\n",
       " ('2', tensor(-0.2019)),\n",
       " ('Ġprogram', tensor(-0.2032)),\n",
       " ('ve', tensor(-0.2048)),\n",
       " ('ĠAt', tensor(-0.2059)),\n",
       " ('Ġdeal', tensor(-0.2085)),\n",
       " ('Ġstatement', tensor(-0.2099)),\n",
       " ('ĠNovember', tensor(-0.2109)),\n",
       " ('Ġcent', tensor(-0.2120)),\n",
       " ('Ġcoach', tensor(-0.2128)),\n",
       " ('Ġgo', tensor(-0.2145)),\n",
       " ('ia', tensor(-0.2155)),\n",
       " ('w', tensor(-0.2165)),\n",
       " ('th', tensor(-0.2177)),\n",
       " (')', tensor(-0.2208)),\n",
       " ('Ġshow', tensor(-0.2216)),\n",
       " ('Ġ24', tensor(-0.2220)),\n",
       " ('Ġpart', tensor(-0.2224)),\n",
       " (\"'ve\", tensor(-0.2225)),\n",
       " ('Ġfederal', tensor(-0.2257)),\n",
       " ('il', tensor(-0.2263)),\n",
       " ('Ġanother', tensor(-0.2264)),\n",
       " ('on', tensor(-0.2264)),\n",
       " ('4', tensor(-0.2274)),\n",
       " ('T', tensor(-0.2282)),\n",
       " ('Ġrun', tensor(-0.2284)),\n",
       " ('Ġaverage', tensor(-0.2393)),\n",
       " ('Ġshares', tensor(-0.2435)),\n",
       " ('Ġpay', tensor(-0.2449)),\n",
       " ('Ġprovide', tensor(-0.2481)),\n",
       " ('Ġkeep', tensor(-0.2499)),\n",
       " ('ĠSouth', tensor(-0.2506)),\n",
       " ('Ġable', tensor(-0.2527)),\n",
       " ('Ġwhat', tensor(-0.2541)),\n",
       " ('Ġmust', tensor(-0.2551)),\n",
       " ('Ġwhich', tensor(-0.2582)),\n",
       " ('y', tensor(-0.2589)),\n",
       " ('ĠWashington', tensor(-0.2605)),\n",
       " (';', tensor(-0.2662)),\n",
       " ('Ġe', tensor(-0.2664)),\n",
       " ('G', tensor(-0.2665)),\n",
       " ('is', tensor(-0.2680)),\n",
       " (\"'s\", tensor(-0.2701)),\n",
       " ('://', tensor(-0.2732)),\n",
       " ('Ġinclude', tensor(-0.2847)),\n",
       " ('Ġas', tensor(-0.2884)),\n",
       " (\"'t\", tensor(-0.2935)),\n",
       " ('Ġhaving', tensor(-0.2942)),\n",
       " ('Ġgood', tensor(-0.2952)),\n",
       " ('Ġmake', tensor(-0.3042)),\n",
       " ('Ġproject', tensor(-0.3044)),\n",
       " ('Ġinternational', tensor(-0.3122)),\n",
       " ('Ġthough', tensor(-0.3131)),\n",
       " ('s', tensor(-0.3198)),\n",
       " ('Ġthis', tensor(-0.3273)),\n",
       " ('Ġun', tensor(-0.3274)),\n",
       " ('ĠNo', tensor(-0.3379)),\n",
       " ('Ġback', tensor(-0.3387)),\n",
       " ('Ġrights', tensor(-0.3680)),\n",
       " ('Ġit', tensor(-0.3978)),\n",
       " ('Ġseries', tensor(-0.3980)),\n",
       " ('000', tensor(-0.4015)),\n",
       " ('Ġcalled', tensor(-0.4082)),\n",
       " ('Ġtold', tensor(-0.4172)),\n",
       " ('Ġseen', tensor(-0.4445)),\n",
       " ('Ġnight', tensor(-0.4618)),\n",
       " ('Ġlatest', tensor(-0.4815)),\n",
       " ('Ġfront', tensor(-0.4838)),\n",
       " ('Ġincluding', tensor(-0.4916)),\n",
       " ('Ġenough', tensor(-0.4989)),\n",
       " ('Ġdid', tensor(-0.5097)),\n",
       " ('ĠNews', tensor(-0.5328)),\n",
       " ('Ġyou', tensor(-0.5388)),\n",
       " ('Ġon', tensor(-0.5620)),\n",
       " ('Ġright', tensor(-0.6324)),\n",
       " ('ĠNational', tensor(-0.6479)),\n",
       " ('man', tensor(-0.7771)),\n",
       " ('ĠState', tensor(-0.8647)),\n",
       " ('Ġwithin', tensor(-0.9980)),\n",
       " ('Ġrate', tensor(-1.2588)),\n",
       " ('Ġmembers', tensor(-2.2439)),\n",
       " ('Ġpeople', tensor(-2.3512)),\n",
       " ('Ġwhen', tensor(-3.9217))]"
      ]
     },
     "execution_count": 55,
     "metadata": {},
     "output_type": "execute_result"
    }
   ],
   "source": [
    "result"
   ]
  },
  {
   "cell_type": "code",
   "execution_count": 30,
   "id": "e7750573",
   "metadata": {},
   "outputs": [
    {
     "data": {
      "text/plain": [
       "1"
      ]
     },
     "execution_count": 30,
     "metadata": {},
     "output_type": "execute_result"
    }
   ],
   "source": [
    "qnli_train[0]['label']"
   ]
  },
  {
   "cell_type": "code",
   "execution_count": 53,
   "id": "34c72723",
   "metadata": {},
   "outputs": [],
   "source": [
    "def fine_tune(questions, answers, labels, template=\"? <mask>, \", ent_token=\"Yes\", not_ent_token=\"No\"):\n",
    "    ent_id = tokeniser.convert_tokens_to_ids(ent_token)\n",
    "    not_ent_id = tokeniser.convert_tokens_to_ids(not_ent_token)\n",
    "    \n",
    "    optimiser = AdamW(model.parameters(), lr=1e-3)\n",
    "    for q,a,label in zip(questions, answers, labels):\n",
    "        prompt_token_id, mask_token_pos = manual_prompt(q,a,template)\n",
    "        pred = model(prompt_token_id)[0]\n",
    "        pred_prob = pred[0, mask_token_pos][[ent_id, not_ent_id]]\n",
    "        prob = torch.nn.functional.softmax(pred_prob, dim=0)\n",
    "        lossFunc = torch.nn.CrossEntropyLoss()\n",
    "        loss=lossFunc(prob.unsqueeze(0), torch.tensor([label]))\n",
    "        loss.backward()\n",
    "        optimiser.step()"
   ]
  },
  {
   "cell_type": "code",
   "execution_count": 54,
   "id": "95dec6bc",
   "metadata": {},
   "outputs": [
    {
     "name": "stdout",
     "output_type": "stream",
     "text": [
      "9904 3084\n",
      "torch.Size([768])\n"
     ]
    },
    {
     "ename": "IndexError",
     "evalue": "index 9904 is out of bounds for dimension 0 with size 768",
     "output_type": "error",
     "traceback": [
      "\u001b[0;31m---------------------------------------------------------------------------\u001b[0m",
      "\u001b[0;31mIndexError\u001b[0m                                Traceback (most recent call last)",
      "Input \u001b[0;32mIn [54]\u001b[0m, in \u001b[0;36m<cell line: 1>\u001b[0;34m()\u001b[0m\n\u001b[0;32m----> 1\u001b[0m \u001b[43mfine_tune\u001b[49m\u001b[43m(\u001b[49m\u001b[43mqnli_train\u001b[49m\u001b[43m[\u001b[49m\u001b[38;5;124;43m'\u001b[39;49m\u001b[38;5;124;43mtext1\u001b[39;49m\u001b[38;5;124;43m'\u001b[39;49m\u001b[43m]\u001b[49m\u001b[43m,\u001b[49m\u001b[43m \u001b[49m\u001b[43mqnli_train\u001b[49m\u001b[43m[\u001b[49m\u001b[38;5;124;43m'\u001b[39;49m\u001b[38;5;124;43mtext2\u001b[39;49m\u001b[38;5;124;43m'\u001b[39;49m\u001b[43m]\u001b[49m\u001b[43m,\u001b[49m\u001b[43m \u001b[49m\u001b[43mqnli_train\u001b[49m\u001b[43m[\u001b[49m\u001b[38;5;124;43m'\u001b[39;49m\u001b[38;5;124;43mlabel\u001b[39;49m\u001b[38;5;124;43m'\u001b[39;49m\u001b[43m]\u001b[49m\u001b[43m)\u001b[49m\n",
      "Input \u001b[0;32mIn [53]\u001b[0m, in \u001b[0;36mfine_tune\u001b[0;34m(questions, answers, labels, template, ent_token, not_ent_token)\u001b[0m\n\u001b[1;32m      9\u001b[0m pred \u001b[38;5;241m=\u001b[39m model(prompt_token_id)[\u001b[38;5;241m0\u001b[39m]\n\u001b[1;32m     10\u001b[0m \u001b[38;5;28mprint\u001b[39m(pred[\u001b[38;5;241m0\u001b[39m, mask_token_pos]\u001b[38;5;241m.\u001b[39msize())\n\u001b[0;32m---> 11\u001b[0m pred_prob \u001b[38;5;241m=\u001b[39m \u001b[43mpred\u001b[49m\u001b[43m[\u001b[49m\u001b[38;5;241;43m0\u001b[39;49m\u001b[43m,\u001b[49m\u001b[43m \u001b[49m\u001b[43mmask_token_pos\u001b[49m\u001b[43m]\u001b[49m\u001b[43m[\u001b[49m\u001b[43m[\u001b[49m\u001b[43ment_id\u001b[49m\u001b[43m,\u001b[49m\u001b[43m \u001b[49m\u001b[43mnot_ent_id\u001b[49m\u001b[43m]\u001b[49m\u001b[43m]\u001b[49m\n\u001b[1;32m     12\u001b[0m prob \u001b[38;5;241m=\u001b[39m torch\u001b[38;5;241m.\u001b[39mnn\u001b[38;5;241m.\u001b[39mfunctional\u001b[38;5;241m.\u001b[39msoftmax(pred_prob, dim\u001b[38;5;241m=\u001b[39m\u001b[38;5;241m0\u001b[39m)\n\u001b[1;32m     13\u001b[0m lossFunc \u001b[38;5;241m=\u001b[39m torch\u001b[38;5;241m.\u001b[39mnn\u001b[38;5;241m.\u001b[39mCrossEntropyLoss()\n",
      "\u001b[0;31mIndexError\u001b[0m: index 9904 is out of bounds for dimension 0 with size 768"
     ]
    }
   ],
   "source": [
    "fine_tune(qnli_train['text1'], qnli_train['text2'], qnli_train['label'])"
   ]
  },
  {
   "cell_type": "code",
   "execution_count": null,
   "id": "94b97383",
   "metadata": {},
   "outputs": [],
   "source": []
  }
 ],
 "metadata": {
  "kernelspec": {
   "display_name": "Python 3 (ipykernel)",
   "language": "python",
   "name": "python3"
  },
  "language_info": {
   "codemirror_mode": {
    "name": "ipython",
    "version": 3
   },
   "file_extension": ".py",
   "mimetype": "text/x-python",
   "name": "python",
   "nbconvert_exporter": "python",
   "pygments_lexer": "ipython3",
   "version": "3.10.6"
  }
 },
 "nbformat": 4,
 "nbformat_minor": 5
}
