{
 "cells": [
  {
   "cell_type": "code",
   "execution_count": 5,
   "id": "48c8dbe6",
   "metadata": {},
   "outputs": [],
   "source": [
    "from transformers import AutoModel, AutoTokenizer, AutoConfig, AutoModelForMaskedLM"
   ]
  },
  {
   "cell_type": "code",
   "execution_count": 6,
   "id": "0de66904",
   "metadata": {},
   "outputs": [],
   "source": [
    "config = AutoConfig.from_pretrained('roberta-base')\n",
    "model = AutoModelForMaskedLM.from_pretrained('roberta-base', config=config)\n",
    "tokenizer = AutoTokenizer.from_pretrained('roberta-base')"
   ]
  },
  {
   "cell_type": "code",
   "execution_count": 7,
   "id": "1bd8097e",
   "metadata": {},
   "outputs": [],
   "source": [
    "def get_final_embeddings(model):\n",
    "    return model.lm_head.layer_norm"
   ]
  },
  {
   "cell_type": "code",
   "execution_count": 9,
   "id": "638f23e2",
   "metadata": {},
   "outputs": [
    {
     "data": {
      "text/plain": [
       "LayerNorm((768,), eps=1e-05, elementwise_affine=True)"
      ]
     },
     "execution_count": 9,
     "metadata": {},
     "output_type": "execute_result"
    }
   ],
   "source": [
    "final_embeddings = get_final_embeddings(model)\n",
    "final_embeddings"
   ]
  },
  {
   "cell_type": "code",
   "execution_count": 10,
   "id": "0a40d144",
   "metadata": {},
   "outputs": [],
   "source": [
    "def get_word_embeddings(model):\n",
    "    return model.lm_head.decoder.weight"
   ]
  },
  {
   "cell_type": "code",
   "execution_count": 12,
   "id": "fdb8fdad",
   "metadata": {},
   "outputs": [
    {
     "data": {
      "text/plain": [
       "torch.Size([50265, 768])"
      ]
     },
     "execution_count": 12,
     "metadata": {},
     "output_type": "execute_result"
    }
   ],
   "source": [
    "word_embeddings = get_word_embeddings(model)\n",
    "word_embeddings.size()"
   ]
  },
  {
   "cell_type": "code",
   "execution_count": 49,
   "id": "8523da7f",
   "metadata": {},
   "outputs": [
    {
     "data": {
      "text/plain": [
       "Parameter containing:\n",
       "tensor([[ 0.1476, -0.0365,  0.0753,  ..., -0.0023,  0.0172, -0.0016],\n",
       "        [ 0.0156,  0.0076, -0.0118,  ..., -0.0022,  0.0081, -0.0156],\n",
       "        [-0.0347, -0.0873, -0.0180,  ...,  0.1174, -0.0098, -0.0355],\n",
       "        ...,\n",
       "        [ 0.0304,  0.0504, -0.0307,  ...,  0.0377,  0.0096,  0.0084],\n",
       "        [ 0.0623, -0.0596,  0.0307,  ..., -0.0920,  0.1080, -0.0183],\n",
       "        [ 0.1259, -0.0145,  0.0332,  ...,  0.0121,  0.0342,  0.0168]],\n",
       "       requires_grad=True)"
      ]
     },
     "execution_count": 49,
     "metadata": {},
     "output_type": "execute_result"
    }
   ],
   "source": [
    "word_embeddings"
   ]
  },
  {
   "cell_type": "code",
   "execution_count": 48,
   "id": "8fb941c3",
   "metadata": {},
   "outputs": [
    {
     "data": {
      "text/plain": [
       "torch.Size([768, 50265])"
      ]
     },
     "execution_count": 48,
     "metadata": {},
     "output_type": "execute_result"
    }
   ],
   "source": [
    "word_embeddings.transpose(0, 1).size()"
   ]
  },
  {
   "cell_type": "code",
   "execution_count": 13,
   "id": "af6c75ac",
   "metadata": {},
   "outputs": [],
   "source": [
    "label_map = {\"0\": 0, \"1\": 1}"
   ]
  },
  {
   "cell_type": "code",
   "execution_count": 14,
   "id": "ed2873ca",
   "metadata": {},
   "outputs": [
    {
     "data": {
      "text/plain": [
       "{0: '0', 1: '1'}"
      ]
     },
     "execution_count": 14,
     "metadata": {},
     "output_type": "execute_result"
    }
   ],
   "source": [
    "reverse_label_map = {y: x for x, y in label_map.items()}\n",
    "reverse_label_map"
   ]
  },
  {
   "cell_type": "code",
   "execution_count": 21,
   "id": "a9f245df",
   "metadata": {},
   "outputs": [],
   "source": [
    "from datasets import load_from_disk, load_dataset"
   ]
  },
  {
   "cell_type": "code",
   "execution_count": 22,
   "id": "6445f278",
   "metadata": {},
   "outputs": [
    {
     "name": "stderr",
     "output_type": "stream",
     "text": [
      "Found cached dataset glue (/jmain02/home/J2AD015/axf03/yxz79-axf03/.cache/huggingface/datasets/glue/sst2/1.0.0/dacbe3125aa31d7f70367a07a8a9e72a5a0bfeb5fc42e75c9db75b96da6053ad)\n"
     ]
    },
    {
     "data": {
      "application/vnd.jupyter.widget-view+json": {
       "model_id": "fe4d2fdc684a4e0d908fedfd477efa31",
       "version_major": 2,
       "version_minor": 0
      },
      "text/plain": [
       "  0%|          | 0/3 [00:00<?, ?it/s]"
      ]
     },
     "metadata": {},
     "output_type": "display_data"
    }
   ],
   "source": [
    "sst2 = load_dataset(\"glue\",\"sst2\")"
   ]
  },
  {
   "cell_type": "code",
   "execution_count": 23,
   "id": "170c9028",
   "metadata": {},
   "outputs": [],
   "source": [
    "sst2_val_16 = sst2['validation'][:16]"
   ]
  },
  {
   "cell_type": "code",
   "execution_count": 24,
   "id": "479aac00",
   "metadata": {},
   "outputs": [
    {
     "data": {
      "text/plain": [
       "{'sentence': [\"it 's a charming and often affecting journey . \",\n",
       "  'unflinchingly bleak and desperate ',\n",
       "  'allows us to hope that nolan is poised to embark a major career as a commercial yet inventive filmmaker . ',\n",
       "  \"the acting , costumes , music , cinematography and sound are all astounding given the production 's austere locales . \",\n",
       "  \"it 's slow -- very , very slow . \",\n",
       "  'although laced with humor and a few fanciful touches , the film is a refreshingly serious look at young women . ',\n",
       "  'a sometimes tedious film . ',\n",
       "  \"or doing last year 's taxes with your ex-wife . \",\n",
       "  \"you do n't have to know about music to appreciate the film 's easygoing blend of comedy and romance . \",\n",
       "  \"in exactly 89 minutes , most of which passed as slowly as if i 'd been sitting naked on an igloo , formula 51 sank from quirky to jerky to utter turkey . \",\n",
       "  'the mesmerizing performances of the leads keep the film grounded and keep the audience riveted . ',\n",
       "  'it takes a strange kind of laziness to waste the talents of robert forster , anne meara , eugene levy , and reginald veljohnson all in the same movie . ',\n",
       "  '... the film suffers from a lack of humor ( something needed to balance out the violence ) ... ',\n",
       "  \"we root for ( clara and paul ) , even like them , though perhaps it 's an emotion closer to pity . \",\n",
       "  \"even horror fans will most likely not find what they 're seeking with trouble every day ; the movie lacks both thrills and humor . \",\n",
       "  'a gorgeous , high-spirited musical from india that exquisitely blends music , dance , song , and high drama . '],\n",
       " 'label': [1, 0, 1, 1, 0, 1, 0, 0, 1, 0, 1, 0, 0, 1, 0, 1],\n",
       " 'idx': [0, 1, 2, 3, 4, 5, 6, 7, 8, 9, 10, 11, 12, 13, 14, 15]}"
      ]
     },
     "execution_count": 24,
     "metadata": {},
     "output_type": "execute_result"
    }
   ],
   "source": [
    "sst2_val_16"
   ]
  },
  {
   "cell_type": "code",
   "execution_count": 35,
   "id": "cac300b6",
   "metadata": {},
   "outputs": [],
   "source": [
    "template = \"<cls> <sentence> <T> <T> <T> <mask> .\"\n",
    "num_trigger_tokens = 3"
   ]
  },
  {
   "cell_type": "code",
   "execution_count": 30,
   "id": "ff7b7d09",
   "metadata": {},
   "outputs": [],
   "source": [
    "import re\n",
    "import string\n",
    "def prep_template(template):\n",
    "    if template is None: return None\n",
    "    segments = template.split(\" \")\n",
    "    need_cap = True\n",
    "    new_template = []\n",
    "    for w in segments:\n",
    "        if w != \"<cls>\" and need_cap and w not in list(string.punctuation):\n",
    "            new_template.append(\"<cap>\")\n",
    "        elif re.match(r'.*[?.!].*', w) is not None:\n",
    "            need_cap = True\n",
    "        elif re.match(r'.*[,:;].*', w) is not None:\n",
    "            need_cap = False\n",
    "        new_template.append(w)\n",
    "    return \" \".join(new_template)"
   ]
  },
  {
   "cell_type": "code",
   "execution_count": 31,
   "id": "71396c92",
   "metadata": {},
   "outputs": [
    {
     "data": {
      "text/plain": [
       "'<cls> <cap> <sentence> <cap> <T> <cap> <T> <cap> <T> <cap> <mask> .'"
      ]
     },
     "execution_count": 31,
     "metadata": {},
     "output_type": "execute_result"
    }
   ],
   "source": [
    "prep_template(template)"
   ]
  },
  {
   "cell_type": "code",
   "execution_count": 44,
   "id": "953c595f",
   "metadata": {},
   "outputs": [
    {
     "data": {
      "text/plain": [
       "768"
      ]
     },
     "execution_count": 44,
     "metadata": {},
     "output_type": "execute_result"
    }
   ],
   "source": [
    "config.hidden_size"
   ]
  },
  {
   "cell_type": "code",
   "execution_count": 33,
   "id": "17ada4de",
   "metadata": {},
   "outputs": [],
   "source": [
    "import torch\n",
    "# The weights of this projection will help identify the best label words.\n",
    "projection = torch.nn.Linear(config.hidden_size, len(label_map))"
   ]
  },
  {
   "cell_type": "code",
   "execution_count": 34,
   "id": "77893cc2",
   "metadata": {},
   "outputs": [
    {
     "data": {
      "text/plain": [
       "Linear(in_features=768, out_features=2, bias=True)"
      ]
     },
     "execution_count": 34,
     "metadata": {},
     "output_type": "execute_result"
    }
   ],
   "source": [
    "projection"
   ]
  },
  {
   "cell_type": "code",
   "execution_count": 50,
   "id": "db54745f",
   "metadata": {},
   "outputs": [
    {
     "data": {
      "text/plain": [
       "torch.Size([2, 768])"
      ]
     },
     "execution_count": 50,
     "metadata": {},
     "output_type": "execute_result"
    }
   ],
   "source": [
    "projection.weight.size()"
   ]
  },
  {
   "cell_type": "code",
   "execution_count": 40,
   "id": "5bd60210",
   "metadata": {},
   "outputs": [
    {
     "data": {
      "text/plain": [
       "[50264, 50264, 50264]"
      ]
     },
     "execution_count": 40,
     "metadata": {},
     "output_type": "execute_result"
    }
   ],
   "source": [
    "trigger_ids = [tokenizer.mask_token_id] * num_trigger_tokens\n",
    "trigger_ids"
   ]
  },
  {
   "cell_type": "code",
   "execution_count": 41,
   "id": "f5703411",
   "metadata": {},
   "outputs": [
    {
     "data": {
      "text/plain": [
       "tensor([[50264, 50264, 50264]])"
      ]
     },
     "execution_count": 41,
     "metadata": {},
     "output_type": "execute_result"
    }
   ],
   "source": [
    "trigger_ids = torch.tensor(trigger_ids).unsqueeze(0)\n",
    "trigger_ids"
   ]
  },
  {
   "cell_type": "code",
   "execution_count": 51,
   "id": "410ae56d",
   "metadata": {},
   "outputs": [],
   "source": [
    "scores = torch.matmul(projection.weight, word_embeddings.transpose(0, 1))"
   ]
  },
  {
   "cell_type": "code",
   "execution_count": 55,
   "id": "c5873aa8",
   "metadata": {},
   "outputs": [
    {
     "data": {
      "text/plain": [
       "torch.Size([2, 50265])"
      ]
     },
     "execution_count": 55,
     "metadata": {},
     "output_type": "execute_result"
    }
   ],
   "source": [
    "scores.size()"
   ]
  },
  {
   "cell_type": "code",
   "execution_count": 56,
   "id": "6d5dc7b3",
   "metadata": {},
   "outputs": [],
   "source": [
    "import torch.nn.functional as F\n",
    "scores = F.softmax(scores, dim=0)"
   ]
  },
  {
   "cell_type": "code",
   "execution_count": 57,
   "id": "693ca3ef",
   "metadata": {},
   "outputs": [
    {
     "data": {
      "text/plain": [
       "tensor([[0.5078, 0.5004, 0.5317,  ..., 0.4869, 0.5048, 0.4985],\n",
       "        [0.4922, 0.4996, 0.4683,  ..., 0.5131, 0.4952, 0.5015]],\n",
       "       grad_fn=<SoftmaxBackward0>)"
      ]
     },
     "execution_count": 57,
     "metadata": {},
     "output_type": "execute_result"
    }
   ],
   "source": [
    "scores"
   ]
  },
  {
   "cell_type": "code",
   "execution_count": 58,
   "id": "2f339568",
   "metadata": {},
   "outputs": [
    {
     "name": "stdout",
     "output_type": "stream",
     "text": [
      "Top k for class 0: ĠLobby, ĠDollar, ĠHeal, ĠLionel, pb, reat, ĠTrotsky, ĠAble, reated, hillary\n",
      "Top k for class 1: Newsletter, Ġpropri, agy, Ġcookie, ĠCookies, Ġorchestr, hawks, Ġphenotype, ENS, ENC\n"
     ]
    }
   ],
   "source": [
    "for i, row in enumerate(scores):\n",
    "    _, top = row.topk(10)\n",
    "    decoded = tokenizer.convert_ids_to_tokens(top)\n",
    "    print(f\"Top k for class {reverse_label_map[i]}: {', '.join(decoded)}\")"
   ]
  },
  {
   "cell_type": "code",
   "execution_count": 62,
   "id": "9dba3735",
   "metadata": {},
   "outputs": [],
   "source": [
    "encoding_list = [1,2,1,4,6]\n",
    "trigger_token_pos = torch.where(torch.tensor(encoding_list)==1)[0]"
   ]
  },
  {
   "cell_type": "code",
   "execution_count": 65,
   "id": "f53f6ee6",
   "metadata": {},
   "outputs": [],
   "source": [
    "assert max(trigger_token_pos) < 3"
   ]
  },
  {
   "cell_type": "code",
   "execution_count": 66,
   "id": "718cd011",
   "metadata": {},
   "outputs": [],
   "source": [
    "for idx in trigger_token_pos:\n",
    "    encoding_list[idx] = 9"
   ]
  },
  {
   "cell_type": "code",
   "execution_count": 67,
   "id": "6f2c5681",
   "metadata": {},
   "outputs": [
    {
     "data": {
      "text/plain": [
       "[9, 2, 9, 4, 6]"
      ]
     },
     "execution_count": 67,
     "metadata": {},
     "output_type": "execute_result"
    }
   ],
   "source": [
    "encoding_list"
   ]
  },
  {
   "cell_type": "code",
   "execution_count": null,
   "id": "7a512b9b",
   "metadata": {},
   "outputs": [],
   "source": []
  }
 ],
 "metadata": {
  "kernelspec": {
   "display_name": "Python 3 (ipykernel)",
   "language": "python",
   "name": "python3"
  },
  "language_info": {
   "codemirror_mode": {
    "name": "ipython",
    "version": 3
   },
   "file_extension": ".py",
   "mimetype": "text/x-python",
   "name": "python",
   "nbconvert_exporter": "python",
   "pygments_lexer": "ipython3",
   "version": "3.10.6"
  }
 },
 "nbformat": 4,
 "nbformat_minor": 5
}
