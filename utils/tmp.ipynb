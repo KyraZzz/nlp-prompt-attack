{
 "cells": [
  {
   "cell_type": "code",
   "execution_count": 5,
   "id": "eea16057",
   "metadata": {},
   "outputs": [],
   "source": [
    "from transformers import AutoModel, AutoTokenizer, AutoConfig, AutoModelForMaskedLM"
   ]
  },
  {
   "cell_type": "code",
   "execution_count": 84,
   "id": "acf657fb",
   "metadata": {},
   "outputs": [],
   "source": [
    "config = AutoConfig.from_pretrained('roberta-base')\n",
    "model = AutoModelForMaskedLM.from_pretrained('roberta-base', config=config)\n",
    "tokenizer = AutoTokenizer.from_pretrained('roberta-base')"
   ]
  },
  {
   "cell_type": "code",
   "execution_count": 7,
   "id": "7c3874b0",
   "metadata": {},
   "outputs": [],
   "source": [
    "def get_final_embeddings(model):\n",
    "    return model.lm_head.layer_norm"
   ]
  },
  {
   "cell_type": "code",
   "execution_count": 9,
   "id": "9d508970",
   "metadata": {},
   "outputs": [
    {
     "data": {
      "text/plain": [
       "LayerNorm((768,), eps=1e-05, elementwise_affine=True)"
      ]
     },
     "execution_count": 9,
     "metadata": {},
     "output_type": "execute_result"
    }
   ],
   "source": [
    "final_embeddings = get_final_embeddings(model)\n",
    "final_embeddings"
   ]
  },
  {
   "cell_type": "code",
   "execution_count": 10,
   "id": "47887ef5",
   "metadata": {},
   "outputs": [],
   "source": [
    "def get_word_embeddings(model):\n",
    "    return model.lm_head.decoder.weight"
   ]
  },
  {
   "cell_type": "code",
   "execution_count": 12,
   "id": "80396eca",
   "metadata": {},
   "outputs": [
    {
     "data": {
      "text/plain": [
       "torch.Size([50265, 768])"
      ]
     },
     "execution_count": 12,
     "metadata": {},
     "output_type": "execute_result"
    }
   ],
   "source": [
    "word_embeddings = get_word_embeddings(model)\n",
    "word_embeddings.size()"
   ]
  },
  {
   "cell_type": "code",
   "execution_count": 49,
   "id": "4ac5db00",
   "metadata": {},
   "outputs": [
    {
     "data": {
      "text/plain": [
       "Parameter containing:\n",
       "tensor([[ 0.1476, -0.0365,  0.0753,  ..., -0.0023,  0.0172, -0.0016],\n",
       "        [ 0.0156,  0.0076, -0.0118,  ..., -0.0022,  0.0081, -0.0156],\n",
       "        [-0.0347, -0.0873, -0.0180,  ...,  0.1174, -0.0098, -0.0355],\n",
       "        ...,\n",
       "        [ 0.0304,  0.0504, -0.0307,  ...,  0.0377,  0.0096,  0.0084],\n",
       "        [ 0.0623, -0.0596,  0.0307,  ..., -0.0920,  0.1080, -0.0183],\n",
       "        [ 0.1259, -0.0145,  0.0332,  ...,  0.0121,  0.0342,  0.0168]],\n",
       "       requires_grad=True)"
      ]
     },
     "execution_count": 49,
     "metadata": {},
     "output_type": "execute_result"
    }
   ],
   "source": [
    "word_embeddings"
   ]
  },
  {
   "cell_type": "code",
   "execution_count": 48,
   "id": "5f4b395a",
   "metadata": {},
   "outputs": [
    {
     "data": {
      "text/plain": [
       "torch.Size([768, 50265])"
      ]
     },
     "execution_count": 48,
     "metadata": {},
     "output_type": "execute_result"
    }
   ],
   "source": [
    "word_embeddings.transpose(0, 1).size()"
   ]
  },
  {
   "cell_type": "code",
   "execution_count": 13,
   "id": "786c51b7",
   "metadata": {},
   "outputs": [],
   "source": [
    "label_map = {\"0\": 0, \"1\": 1}"
   ]
  },
  {
   "cell_type": "code",
   "execution_count": 14,
   "id": "ff1f7c3e",
   "metadata": {},
   "outputs": [
    {
     "data": {
      "text/plain": [
       "{0: '0', 1: '1'}"
      ]
     },
     "execution_count": 14,
     "metadata": {},
     "output_type": "execute_result"
    }
   ],
   "source": [
    "reverse_label_map = {y: x for x, y in label_map.items()}\n",
    "reverse_label_map"
   ]
  },
  {
   "cell_type": "code",
   "execution_count": 21,
   "id": "3c35fa8d",
   "metadata": {},
   "outputs": [],
   "source": [
    "from datasets import load_from_disk, load_dataset"
   ]
  },
  {
   "cell_type": "code",
   "execution_count": 22,
   "id": "53bc2ac7",
   "metadata": {},
   "outputs": [
    {
     "name": "stderr",
     "output_type": "stream",
     "text": [
      "Found cached dataset glue (/jmain02/home/J2AD015/axf03/yxz79-axf03/.cache/huggingface/datasets/glue/sst2/1.0.0/dacbe3125aa31d7f70367a07a8a9e72a5a0bfeb5fc42e75c9db75b96da6053ad)\n"
     ]
    },
    {
     "data": {
      "application/vnd.jupyter.widget-view+json": {
       "model_id": "fe4d2fdc684a4e0d908fedfd477efa31",
       "version_major": 2,
       "version_minor": 0
      },
      "text/plain": [
       "  0%|          | 0/3 [00:00<?, ?it/s]"
      ]
     },
     "metadata": {},
     "output_type": "display_data"
    }
   ],
   "source": [
    "sst2 = load_dataset(\"glue\",\"sst2\")"
   ]
  },
  {
   "cell_type": "code",
   "execution_count": 23,
   "id": "ffc956a8",
   "metadata": {},
   "outputs": [],
   "source": [
    "sst2_val_16 = sst2['validation'][:16]"
   ]
  },
  {
   "cell_type": "code",
   "execution_count": 24,
   "id": "3a77c981",
   "metadata": {},
   "outputs": [
    {
     "data": {
      "text/plain": [
       "{'sentence': [\"it 's a charming and often affecting journey . \",\n",
       "  'unflinchingly bleak and desperate ',\n",
       "  'allows us to hope that nolan is poised to embark a major career as a commercial yet inventive filmmaker . ',\n",
       "  \"the acting , costumes , music , cinematography and sound are all astounding given the production 's austere locales . \",\n",
       "  \"it 's slow -- very , very slow . \",\n",
       "  'although laced with humor and a few fanciful touches , the film is a refreshingly serious look at young women . ',\n",
       "  'a sometimes tedious film . ',\n",
       "  \"or doing last year 's taxes with your ex-wife . \",\n",
       "  \"you do n't have to know about music to appreciate the film 's easygoing blend of comedy and romance . \",\n",
       "  \"in exactly 89 minutes , most of which passed as slowly as if i 'd been sitting naked on an igloo , formula 51 sank from quirky to jerky to utter turkey . \",\n",
       "  'the mesmerizing performances of the leads keep the film grounded and keep the audience riveted . ',\n",
       "  'it takes a strange kind of laziness to waste the talents of robert forster , anne meara , eugene levy , and reginald veljohnson all in the same movie . ',\n",
       "  '... the film suffers from a lack of humor ( something needed to balance out the violence ) ... ',\n",
       "  \"we root for ( clara and paul ) , even like them , though perhaps it 's an emotion closer to pity . \",\n",
       "  \"even horror fans will most likely not find what they 're seeking with trouble every day ; the movie lacks both thrills and humor . \",\n",
       "  'a gorgeous , high-spirited musical from india that exquisitely blends music , dance , song , and high drama . '],\n",
       " 'label': [1, 0, 1, 1, 0, 1, 0, 0, 1, 0, 1, 0, 0, 1, 0, 1],\n",
       " 'idx': [0, 1, 2, 3, 4, 5, 6, 7, 8, 9, 10, 11, 12, 13, 14, 15]}"
      ]
     },
     "execution_count": 24,
     "metadata": {},
     "output_type": "execute_result"
    }
   ],
   "source": [
    "sst2_val_16"
   ]
  },
  {
   "cell_type": "code",
   "execution_count": 35,
   "id": "bcde8e32",
   "metadata": {},
   "outputs": [],
   "source": [
    "template = \"<cls> <sentence> <T> <T> <T> <mask> .\"\n",
    "num_trigger_tokens = 3"
   ]
  },
  {
   "cell_type": "code",
   "execution_count": 30,
   "id": "760096d3",
   "metadata": {},
   "outputs": [],
   "source": [
    "import re\n",
    "import string\n",
    "def prep_template(template):\n",
    "    if template is None: return None\n",
    "    segments = template.split(\" \")\n",
    "    need_cap = True\n",
    "    new_template = []\n",
    "    for w in segments:\n",
    "        if w != \"<cls>\" and need_cap and w not in list(string.punctuation):\n",
    "            new_template.append(\"<cap>\")\n",
    "        elif re.match(r'.*[?.!].*', w) is not None:\n",
    "            need_cap = True\n",
    "        elif re.match(r'.*[,:;].*', w) is not None:\n",
    "            need_cap = False\n",
    "        new_template.append(w)\n",
    "    return \" \".join(new_template)"
   ]
  },
  {
   "cell_type": "code",
   "execution_count": 31,
   "id": "b4f0fc89",
   "metadata": {},
   "outputs": [
    {
     "data": {
      "text/plain": [
       "'<cls> <cap> <sentence> <cap> <T> <cap> <T> <cap> <T> <cap> <mask> .'"
      ]
     },
     "execution_count": 31,
     "metadata": {},
     "output_type": "execute_result"
    }
   ],
   "source": [
    "prep_template(template)"
   ]
  },
  {
   "cell_type": "code",
   "execution_count": 44,
   "id": "2904c657",
   "metadata": {},
   "outputs": [
    {
     "data": {
      "text/plain": [
       "768"
      ]
     },
     "execution_count": 44,
     "metadata": {},
     "output_type": "execute_result"
    }
   ],
   "source": [
    "config.hidden_size"
   ]
  },
  {
   "cell_type": "code",
   "execution_count": 33,
   "id": "126a46e2",
   "metadata": {},
   "outputs": [],
   "source": [
    "import torch\n",
    "# The weights of this projection will help identify the best label words.\n",
    "projection = torch.nn.Linear(config.hidden_size, len(label_map))"
   ]
  },
  {
   "cell_type": "code",
   "execution_count": 34,
   "id": "f557daf0",
   "metadata": {},
   "outputs": [
    {
     "data": {
      "text/plain": [
       "Linear(in_features=768, out_features=2, bias=True)"
      ]
     },
     "execution_count": 34,
     "metadata": {},
     "output_type": "execute_result"
    }
   ],
   "source": [
    "projection"
   ]
  },
  {
   "cell_type": "code",
   "execution_count": 50,
   "id": "0261a15f",
   "metadata": {},
   "outputs": [
    {
     "data": {
      "text/plain": [
       "torch.Size([2, 768])"
      ]
     },
     "execution_count": 50,
     "metadata": {},
     "output_type": "execute_result"
    }
   ],
   "source": [
    "projection.weight.size()"
   ]
  },
  {
   "cell_type": "code",
   "execution_count": 40,
   "id": "c20caa30",
   "metadata": {},
   "outputs": [
    {
     "data": {
      "text/plain": [
       "[50264, 50264, 50264]"
      ]
     },
     "execution_count": 40,
     "metadata": {},
     "output_type": "execute_result"
    }
   ],
   "source": [
    "trigger_ids = [tokenizer.mask_token_id] * num_trigger_tokens\n",
    "trigger_ids"
   ]
  },
  {
   "cell_type": "code",
   "execution_count": 41,
   "id": "ab454f96",
   "metadata": {},
   "outputs": [
    {
     "data": {
      "text/plain": [
       "tensor([[50264, 50264, 50264]])"
      ]
     },
     "execution_count": 41,
     "metadata": {},
     "output_type": "execute_result"
    }
   ],
   "source": [
    "trigger_ids = torch.tensor(trigger_ids).unsqueeze(0)\n",
    "trigger_ids"
   ]
  },
  {
   "cell_type": "code",
   "execution_count": 51,
   "id": "0c32a80e",
   "metadata": {},
   "outputs": [],
   "source": [
    "scores = torch.matmul(projection.weight, word_embeddings.transpose(0, 1))"
   ]
  },
  {
   "cell_type": "code",
   "execution_count": 55,
   "id": "eb850caa",
   "metadata": {},
   "outputs": [
    {
     "data": {
      "text/plain": [
       "torch.Size([2, 50265])"
      ]
     },
     "execution_count": 55,
     "metadata": {},
     "output_type": "execute_result"
    }
   ],
   "source": [
    "scores.size()"
   ]
  },
  {
   "cell_type": "code",
   "execution_count": 56,
   "id": "09769d34",
   "metadata": {},
   "outputs": [],
   "source": [
    "import torch.nn.functional as F\n",
    "scores = F.softmax(scores, dim=0)"
   ]
  },
  {
   "cell_type": "code",
   "execution_count": 57,
   "id": "62aba75e",
   "metadata": {},
   "outputs": [
    {
     "data": {
      "text/plain": [
       "tensor([[0.5078, 0.5004, 0.5317,  ..., 0.4869, 0.5048, 0.4985],\n",
       "        [0.4922, 0.4996, 0.4683,  ..., 0.5131, 0.4952, 0.5015]],\n",
       "       grad_fn=<SoftmaxBackward0>)"
      ]
     },
     "execution_count": 57,
     "metadata": {},
     "output_type": "execute_result"
    }
   ],
   "source": [
    "scores"
   ]
  },
  {
   "cell_type": "code",
   "execution_count": 58,
   "id": "ddd0398f",
   "metadata": {},
   "outputs": [
    {
     "name": "stdout",
     "output_type": "stream",
     "text": [
      "Top k for class 0: ĠLobby, ĠDollar, ĠHeal, ĠLionel, pb, reat, ĠTrotsky, ĠAble, reated, hillary\n",
      "Top k for class 1: Newsletter, Ġpropri, agy, Ġcookie, ĠCookies, Ġorchestr, hawks, Ġphenotype, ENS, ENC\n"
     ]
    }
   ],
   "source": [
    "for i, row in enumerate(scores):\n",
    "    _, top = row.topk(10)\n",
    "    decoded = tokenizer.convert_ids_to_tokens(top)\n",
    "    print(f\"Top k for class {reverse_label_map[i]}: {', '.join(decoded)}\")"
   ]
  },
  {
   "cell_type": "code",
   "execution_count": 62,
   "id": "96434971",
   "metadata": {},
   "outputs": [],
   "source": [
    "encoding_list = [1,2,1,4,6]\n",
    "trigger_token_pos = torch.where(torch.tensor(encoding_list)==1)[0]"
   ]
  },
  {
   "cell_type": "code",
   "execution_count": 65,
   "id": "d076cf73",
   "metadata": {},
   "outputs": [],
   "source": [
    "assert max(trigger_token_pos) < 3"
   ]
  },
  {
   "cell_type": "code",
   "execution_count": 66,
   "id": "5f9952f8",
   "metadata": {},
   "outputs": [],
   "source": [
    "for idx in trigger_token_pos:\n",
    "    encoding_list[idx] = 9"
   ]
  },
  {
   "cell_type": "code",
   "execution_count": 67,
   "id": "97eb3f95",
   "metadata": {},
   "outputs": [
    {
     "data": {
      "text/plain": [
       "[9, 2, 9, 4, 6]"
      ]
     },
     "execution_count": 67,
     "metadata": {},
     "output_type": "execute_result"
    }
   ],
   "source": [
    "encoding_list"
   ]
  },
  {
   "cell_type": "code",
   "execution_count": 85,
   "id": "84394d0f",
   "metadata": {},
   "outputs": [
    {
     "data": {
      "text/plain": [
       "50265"
      ]
     },
     "execution_count": 85,
     "metadata": {},
     "output_type": "execute_result"
    }
   ],
   "source": [
    "tokenizer.vocab_size"
   ]
  },
  {
   "cell_type": "code",
   "execution_count": null,
   "id": "2b458458",
   "metadata": {},
   "outputs": [],
   "source": [
    "tokenizer.convert_ids_to_tokens()"
   ]
  },
  {
   "cell_type": "code",
   "execution_count": 82,
   "id": "d9ff44bc",
   "metadata": {},
   "outputs": [],
   "source": [
    "filter_vocab = torch.zeros(tokenizer.vocab_size, dtype=torch.float32)"
   ]
  },
  {
   "cell_type": "code",
   "execution_count": 83,
   "id": "09f98f2b",
   "metadata": {},
   "outputs": [
    {
     "data": {
      "text/plain": [
       "torch.Size([50265])"
      ]
     },
     "execution_count": 83,
     "metadata": {},
     "output_type": "execute_result"
    }
   ],
   "source": [
    "filter_vocab.size()"
   ]
  },
  {
   "cell_type": "code",
   "execution_count": 87,
   "id": "635837fa",
   "metadata": {},
   "outputs": [],
   "source": [
    "def add_extra_special_tokens():\n",
    "    tokenizer.add_special_tokens({'additional_special_tokens': [\"<T>\"]})\n",
    "    tokenizer.trigger_token = \"<T>\"\n",
    "    tokenizer.trigger_token_id = tokenizer.convert_tokens_to_ids(\"<T>\")\n",
    "    print(tokenizer.trigger_token_id)"
   ]
  },
  {
   "cell_type": "code",
   "execution_count": 88,
   "id": "30539a3a",
   "metadata": {},
   "outputs": [
    {
     "name": "stdout",
     "output_type": "stream",
     "text": [
      "50265\n"
     ]
    }
   ],
   "source": [
    "add_extra_special_tokens()"
   ]
  },
  {
   "cell_type": "code",
   "execution_count": 89,
   "id": "5595dee8",
   "metadata": {},
   "outputs": [
    {
     "data": {
      "text/plain": [
       "50265"
      ]
     },
     "execution_count": 89,
     "metadata": {},
     "output_type": "execute_result"
    }
   ],
   "source": [
    "tokenizer.vocab_size"
   ]
  },
  {
   "cell_type": "code",
   "execution_count": 90,
   "id": "f7bb1444",
   "metadata": {},
   "outputs": [
    {
     "data": {
      "text/plain": [
       "50266"
      ]
     },
     "execution_count": 90,
     "metadata": {},
     "output_type": "execute_result"
    }
   ],
   "source": [
    "len(tokenizer)"
   ]
  },
  {
   "cell_type": "code",
   "execution_count": 91,
   "id": "3441fe8f",
   "metadata": {},
   "outputs": [
    {
     "data": {
      "text/plain": [
       "Embedding(50266, 768)"
      ]
     },
     "execution_count": 91,
     "metadata": {},
     "output_type": "execute_result"
    }
   ],
   "source": [
    "model.resize_token_embeddings(len(tokenizer))"
   ]
  },
  {
   "cell_type": "code",
   "execution_count": 92,
   "id": "0e03f604",
   "metadata": {},
   "outputs": [
    {
     "data": {
      "text/plain": [
       "50265"
      ]
     },
     "execution_count": 92,
     "metadata": {},
     "output_type": "execute_result"
    }
   ],
   "source": [
    "tokenizer.vocab_size"
   ]
  },
  {
   "cell_type": "code",
   "execution_count": 72,
   "id": "188cf41d",
   "metadata": {},
   "outputs": [],
   "source": [
    "label_list = [\"Yes\", \"No\"]\n",
    "all_vocab = tokenizer.get_vocab()"
   ]
  },
  {
   "cell_type": "code",
   "execution_count": 73,
   "id": "adbee2f1",
   "metadata": {},
   "outputs": [
    {
     "data": {
      "text/plain": [
       "9904"
      ]
     },
     "execution_count": 73,
     "metadata": {},
     "output_type": "execute_result"
    }
   ],
   "source": [
    "all_vocab[\"Yes\"]"
   ]
  },
  {
   "cell_type": "code",
   "execution_count": 94,
   "id": "79193392",
   "metadata": {},
   "outputs": [
    {
     "data": {
      "text/plain": [
       "50266"
      ]
     },
     "execution_count": 94,
     "metadata": {},
     "output_type": "execute_result"
    }
   ],
   "source": [
    "len(tokenizer.get_vocab())"
   ]
  },
  {
   "cell_type": "code",
   "execution_count": 75,
   "id": "a42ffaa8",
   "metadata": {},
   "outputs": [],
   "source": [
    "filter_vocab = torch.zeros(tokenizer.vocab_size, dtype=torch.float32)\n",
    "for word, idx in tokenizer.get_vocab().items():\n",
    "    # after "
   ]
  },
  {
   "cell_type": "code",
   "execution_count": 76,
   "id": "c3664ac4",
   "metadata": {},
   "outputs": [
    {
     "ename": "KeyError",
     "evalue": "'Yes'",
     "output_type": "error",
     "traceback": [
      "\u001b[0;31m---------------------------------------------------------------------------\u001b[0m",
      "\u001b[0;31mKeyError\u001b[0m                                  Traceback (most recent call last)",
      "Input \u001b[0;32mIn [76]\u001b[0m, in \u001b[0;36m<cell line: 1>\u001b[0;34m()\u001b[0m\n\u001b[0;32m----> 1\u001b[0m \u001b[43mall_vocab\u001b[49m\u001b[43m[\u001b[49m\u001b[38;5;124;43m\"\u001b[39;49m\u001b[38;5;124;43mYes\u001b[39;49m\u001b[38;5;124;43m\"\u001b[39;49m\u001b[43m]\u001b[49m\n",
      "\u001b[0;31mKeyError\u001b[0m: 'Yes'"
     ]
    }
   ],
   "source": [
    "all_vocab[\"Yes\"]"
   ]
  },
  {
   "cell_type": "code",
   "execution_count": null,
   "id": "83474d69",
   "metadata": {},
   "outputs": [],
   "source": []
  }
 ],
 "metadata": {
  "kernelspec": {
   "display_name": "Python 3 (ipykernel)",
   "language": "python",
   "name": "python3"
  },
  "language_info": {
   "codemirror_mode": {
    "name": "ipython",
    "version": 3
   },
   "file_extension": ".py",
   "mimetype": "text/x-python",
   "name": "python",
   "nbconvert_exporter": "python",
   "pygments_lexer": "ipython3",
   "version": "3.10.6"
  }
 },
 "nbformat": 4,
 "nbformat_minor": 5
}
